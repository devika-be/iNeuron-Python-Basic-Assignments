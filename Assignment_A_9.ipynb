{
 "cells": [
  {
   "cell_type": "markdown",
   "id": "66e4bf54",
   "metadata": {},
   "source": [
    "# Devika Prashant Pagare\n",
    "#### Python : Assignment No. : 9"
   ]
  },
  {
   "cell_type": "markdown",
   "id": "7a101847",
   "metadata": {},
   "source": [
    "<b>Number 1 - \n",
    "- Question -\n",
    "> What is a lambda function in Python, and how does it differ from a regular function?\n",
    "    \n",
    "- Answer -\n",
    "> \n",
    "A lambda function is an anonymous function in Python defined using the lambda keyword, and it differs from a regular function in terms of its syntax and simplicity.\n",
    "\n",
    "    \n",
    "<b>------------------------------------------------------------------------------------------------------------------------------------------------------------------------------------------------------------------"
   ]
  },
  {
   "cell_type": "markdown",
   "id": "413d8471",
   "metadata": {},
   "source": [
    "<b>Number 2 - \n",
    "- Question -\n",
    "> Can a lambda function in Python have multiple arguments? If yes, how can you define and use them?\n",
    "\n",
    "- Answer -\n",
    "> Yes, a lambda function in Python can have multiple arguments. Multiple arguments can be defined by separating them with commas in the lambda function's argument list, and they can be used in the function's expression for computation or manipulation."
   ]
  },
  {
   "cell_type": "markdown",
   "id": "d0f8fd01",
   "metadata": {},
   "source": [
    "<b>Number 3 - \n",
    "- Question -\n",
    "> How are lambda functions typically used in Python? Provide an example use case.\n",
    "\n",
    "- Answer -"
   ]
  },
  {
   "cell_type": "code",
   "execution_count": 2,
   "id": "12794c35",
   "metadata": {},
   "outputs": [
    {
     "name": "stdout",
     "output_type": "stream",
     "text": [
      "[('Charlie', 70), ('Alice', 80), ('Bob', 90)]\n"
     ]
    }
   ],
   "source": [
    "# Sorting a list of tuples based on the second element using a lambda function\n",
    "students = [('Alice', 80), ('Bob', 90), ('Charlie', 70)]\n",
    "sorted_students = sorted(students, key=lambda x: x[1])\n",
    "print(sorted_students)"
   ]
  },
  {
   "cell_type": "markdown",
   "id": "29f970c3",
   "metadata": {},
   "source": [
    "    \n",
    "<b>------------------------------------------------------------------------------------------------------------------------------------------------------------------------------------------------------------------"
   ]
  },
  {
   "cell_type": "markdown",
   "id": "48cae11c",
   "metadata": {},
   "source": [
    "<b>Number 4 - \n",
    "- Question -\n",
    "> What are the advantages and limitations of lambda functions compared to regular functions in Python?\n",
    "    \n",
    "- Answer -\n",
    ">- Advantages of lambda functions:\n",
    "\n",
    "1. Concise and compact syntax\n",
    "2. Can be used as anonymous functions\n",
    "3. Suitable for simple, one-line operations\n",
    "4. Useful in functional programming paradigms\n",
    "\n",
    ">- Limitations of lambda functions:\n",
    "\n",
    "1. Limited functionality compared to regular functions\n",
    "2. Cannot contain multiple expressions or complex logic\n",
    "3. Lack of documentation (docstrings)\n",
    "4. Can make code less readable if used excessively or for complex operations\n",
    "\n",
    "    \n",
    "<b>------------------------------------------------------------------------------------------------------------------------------------------------------------------------------------------------------------------"
   ]
  },
  {
   "cell_type": "markdown",
   "id": "c242eee3",
   "metadata": {},
   "source": [
    "<b>Number 5 - \n",
    "- Question -\n",
    "> Are lambda functions in Python able to access variables defined outside of their own scope?\n",
    "Explain with an example.\n",
    "\n",
    "- Answer -\n",
    "> Yes, lambda functions in Python can access variables defined outside of their own scope. These variables are accessed through closures, which capture the values of variables from the enclosing scope.\n"
   ]
  },
  {
   "cell_type": "code",
   "execution_count": 4,
   "id": "66827da8",
   "metadata": {},
   "outputs": [
    {
     "name": "stdout",
     "output_type": "stream",
     "text": [
      "15\n"
     ]
    }
   ],
   "source": [
    "def outer_function():\n",
    "    x = 10\n",
    "    \n",
    "    inner_function = lambda y: x + y\n",
    "    \n",
    "    return inner_function\n",
    "\n",
    "closure = outer_function()\n",
    "result = closure(5)\n",
    "print(result)  "
   ]
  },
  {
   "cell_type": "markdown",
   "id": "bd2a7b45",
   "metadata": {},
   "source": [
    "<b>------------------------------------------------------------------------------------------------------------------------------------------------------------------------------------------------------------------"
   ]
  },
  {
   "cell_type": "markdown",
   "id": "541f2b61",
   "metadata": {},
   "source": [
    "<b>Number 6 - \n",
    "- Question -\n",
    "> Write a lambda function to calculate the square of a given number.\n",
    "    \n",
    "    \n",
    "- Answer -\n",
    "> In this lambda function, the input number x is squared using the exponentiation operator **. The lambda function is assigned to the variable square. \n",
    "    "
   ]
  },
  {
   "cell_type": "code",
   "execution_count": 8,
   "id": "459cb3ab",
   "metadata": {},
   "outputs": [],
   "source": [
    "square = lambda x: x ** 2"
   ]
  },
  {
   "cell_type": "code",
   "execution_count": 9,
   "id": "9a37e407",
   "metadata": {},
   "outputs": [
    {
     "name": "stdout",
     "output_type": "stream",
     "text": [
      "<function <lambda> at 0x00000218BD2E3160>\n"
     ]
    }
   ],
   "source": [
    "print(square)"
   ]
  },
  {
   "cell_type": "code",
   "execution_count": 10,
   "id": "ce773685",
   "metadata": {},
   "outputs": [
    {
     "name": "stdout",
     "output_type": "stream",
     "text": [
      "25\n"
     ]
    }
   ],
   "source": [
    "result = square(5)\n",
    "print(result)  "
   ]
  },
  {
   "cell_type": "markdown",
   "id": "18ba735b",
   "metadata": {},
   "source": [
    "<b>------------------------------------------------------------------------------------------------------------------------------------------------------------------------------------------------------------------"
   ]
  },
  {
   "cell_type": "markdown",
   "id": "0046358b",
   "metadata": {},
   "source": [
    "<b>Number 7 - \n",
    "- Question -\n",
    "> Create a lambda function to find the maximum value in a list of integers.\n",
    "\n",
    "- Answer -"
   ]
  },
  {
   "cell_type": "code",
   "execution_count": 11,
   "id": "5a9148fd",
   "metadata": {},
   "outputs": [],
   "source": [
    "find_max = lambda lst: max(lst)"
   ]
  },
  {
   "cell_type": "markdown",
   "id": "c695b5d2",
   "metadata": {},
   "source": [
    "> In this lambda function, the max() function is used to find the maximum value in the given list lst. The lambda function is assigned to the variable find_max."
   ]
  },
  {
   "cell_type": "code",
   "execution_count": 13,
   "id": "bca786e3",
   "metadata": {},
   "outputs": [
    {
     "name": "stdout",
     "output_type": "stream",
     "text": [
      "9\n"
     ]
    }
   ],
   "source": [
    "numbers = [4, 9, 2, 6, 5]\n",
    "result = find_max(numbers)\n",
    "print(result)  "
   ]
  },
  {
   "cell_type": "markdown",
   "id": "562791a9",
   "metadata": {},
   "source": [
    "    \n",
    "<b>------------------------------------------------------------------------------------------------------------------------------------------------------------------------------------------------------------------"
   ]
  },
  {
   "cell_type": "markdown",
   "id": "a3ca9de1",
   "metadata": {},
   "source": [
    "<b>Number 8 - \n",
    "- Question -\n",
    "> Implement a lambda function to filter out all the even numbers from a list of integers.\n",
    "\n",
    "- Answer -"
   ]
  },
  {
   "cell_type": "code",
   "execution_count": 16,
   "id": "a71b695e",
   "metadata": {},
   "outputs": [],
   "source": [
    "filter_even = lambda lst: list(filter(lambda x: x % 2 == 0, lst))"
   ]
  },
  {
   "cell_type": "code",
   "execution_count": 17,
   "id": "b824ea98",
   "metadata": {},
   "outputs": [
    {
     "name": "stdout",
     "output_type": "stream",
     "text": [
      "[2, 4, 6, 8, 10]\n"
     ]
    }
   ],
   "source": [
    "# To use this lambda function and filter out even numbers from a list, you can call it with the list as an argument, like this:\n",
    "\n",
    "numbers = [1, 2, 3, 4, 5, 6, 7, 8, 9, 10]\n",
    "result = filter_even(numbers)\n",
    "print(result) "
   ]
  },
  {
   "cell_type": "markdown",
   "id": "888c0d22",
   "metadata": {},
   "source": [
    "<b>------------------------------------------------------------------------------------------------------------------------------------------------------------------------------------------------------------------"
   ]
  },
  {
   "cell_type": "markdown",
   "id": "01f22740",
   "metadata": {},
   "source": [
    "<b>Number 9 - \n",
    "- Question -\n",
    "> Write a lambda function to sort a list of strings in ascending order based on the length of each string.\n",
    "\n",
    "\n",
    "- Answer -"
   ]
  },
  {
   "cell_type": "code",
   "execution_count": 20,
   "id": "0df43586",
   "metadata": {},
   "outputs": [],
   "source": [
    "sort_strings = lambda lst: sorted(lst, key=lambda x: len(x))"
   ]
  },
  {
   "cell_type": "markdown",
   "id": "0a85469e",
   "metadata": {},
   "source": [
    "> In this lambda function, the sorted() function is used to sort the given list lst based on a key function. The inner lambda function lambda x: len(x) calculates the length of each string x and serves as the key for sorting. The sorted() function returns a new sorted list based on the length of the strings."
   ]
  },
  {
   "cell_type": "code",
   "execution_count": 19,
   "id": "bfcb923f",
   "metadata": {},
   "outputs": [
    {
     "name": "stdout",
     "output_type": "stream",
     "text": [
      "['date', 'apple', 'banana', 'cherry', 'elderberry']\n"
     ]
    }
   ],
   "source": [
    "strings = [\"apple\", \"banana\", \"cherry\", \"date\", \"elderberry\"]\n",
    "result = sort_strings(strings)\n",
    "print(result)  "
   ]
  },
  {
   "cell_type": "markdown",
   "id": "7301d92a",
   "metadata": {},
   "source": [
    "<b>------------------------------------------------------------------------------------------------------------------------------------------------------------------------------------------------------------------"
   ]
  },
  {
   "cell_type": "markdown",
   "id": "c28cd236",
   "metadata": {},
   "source": [
    "<b>Number 10 - \n",
    "- Question -\n",
    "> Create a lambda function that takes two lists as input and returns a new list containing the common elements between the two lists.\n",
    "\n",
    "- Answer -"
   ]
  },
  {
   "cell_type": "code",
   "execution_count": 22,
   "id": "218ce743",
   "metadata": {},
   "outputs": [],
   "source": [
    "find_common_elements = lambda list1, list2: list(filter(lambda x: x in list2, list1))"
   ]
  },
  {
   "cell_type": "markdown",
   "id": "c62c82da",
   "metadata": {},
   "source": [
    "> In this lambda function, the filter() function is used to apply a lambda function to each element in list1. The inner lambda function lambda x: x in list2 checks if each element x in list1 is present in list2. The filter() function returns an iterator containing the elements that satisfy the condition. The outer lambda function then converts the iterator into a list."
   ]
  },
  {
   "cell_type": "code",
   "execution_count": 23,
   "id": "7ab090c2",
   "metadata": {},
   "outputs": [
    {
     "name": "stdout",
     "output_type": "stream",
     "text": [
      "[4, 5]\n"
     ]
    }
   ],
   "source": [
    "list1 = [1, 2, 3, 4, 5]\n",
    "list2 = [4, 5, 6, 7, 8]\n",
    "result = find_common_elements(list1, list2)\n",
    "print(result) "
   ]
  },
  {
   "cell_type": "markdown",
   "id": "a3630373",
   "metadata": {},
   "source": [
    "    \n",
    "<b>------------------------------------------------------------------------------------------------------------------------------------------------------------------------------------------------------------------"
   ]
  },
  {
   "cell_type": "markdown",
   "id": "9c853bce",
   "metadata": {},
   "source": [
    "<b>Number 11 - \n",
    "- Question -\n",
    "> Write a recursive function to calculate the factorial of a given positive integer.\n",
    "    \n",
    "    \n",
    "- Answer -"
   ]
  },
  {
   "cell_type": "code",
   "execution_count": 27,
   "id": "0ebada09",
   "metadata": {},
   "outputs": [],
   "source": [
    "def factorial(n):\n",
    "    if n == 0:\n",
    "        return 1\n",
    "    else:\n",
    "        return n * factorial(n-1)"
   ]
  },
  {
   "cell_type": "markdown",
   "id": "3c0bfa5e",
   "metadata": {},
   "source": [
    "> In this recursive function, the base case is defined when n equals 0, where the factorial is known to be 1. For any positive integer n, the factorial is calculated by multiplying n with the factorial of n-1 until the base case is reached."
   ]
  },
  {
   "cell_type": "code",
   "execution_count": 28,
   "id": "d6c6b6d2",
   "metadata": {},
   "outputs": [
    {
     "name": "stdout",
     "output_type": "stream",
     "text": [
      "120\n"
     ]
    }
   ],
   "source": [
    "result = factorial(5)\n",
    "print(result)  "
   ]
  },
  {
   "cell_type": "markdown",
   "id": "c7c2c13d",
   "metadata": {},
   "source": [
    "<b>------------------------------------------------------------------------------------------------------------------------------------------------------------------------------------------------------------------"
   ]
  },
  {
   "cell_type": "markdown",
   "id": "9df33c89",
   "metadata": {},
   "source": [
    "<b>Number 12 - \n",
    "- Question -\n",
    "> Implement a recursive function to compute the nth Fibonacci number.\n",
    "    \n",
    "    \n",
    "- Answer -\n",
    "> In this example, fibonacci(6) invokes the recursive function fibonacci with the argument 6. The function computes the 6th Fibonacci number by adding the 4th and 5th Fibonacci numbers recursively. The result is then stored in the variable result and printed, resulting in the 6th Fibonacci number, which is 8."
   ]
  },
  {
   "cell_type": "code",
   "execution_count": 30,
   "id": "603ba286",
   "metadata": {},
   "outputs": [],
   "source": [
    "def fibonacci(n):\n",
    "    if n <= 1:\n",
    "        return n\n",
    "    else:\n",
    "        return fibonacci(n-1) + fibonacci(n-2)"
   ]
  },
  {
   "cell_type": "code",
   "execution_count": 31,
   "id": "390c4440",
   "metadata": {},
   "outputs": [
    {
     "name": "stdout",
     "output_type": "stream",
     "text": [
      "8\n"
     ]
    }
   ],
   "source": [
    "result = fibonacci(6)\n",
    "print(result) "
   ]
  },
  {
   "cell_type": "markdown",
   "id": "73cec76c",
   "metadata": {},
   "source": [
    "<b>------------------------------------------------------------------------------------------------------------------------------------------------------------------------------------------------------------------"
   ]
  },
  {
   "cell_type": "markdown",
   "id": "214c3cc5",
   "metadata": {},
   "source": [
    "<b>Number 13 - \n",
    "- Question -\n",
    "> Create a recursive function to find the sum of all the elements in a given list.\n",
    "    \n",
    "    \n",
    "- Answer -"
   ]
  },
  {
   "cell_type": "code",
   "execution_count": 32,
   "id": "f462b415",
   "metadata": {},
   "outputs": [],
   "source": [
    "def sum_list_elements(lst):\n",
    "    if len(lst) == 0:\n",
    "        return 0\n",
    "    else:\n",
    "        return lst[0] + sum_list_elements(lst[1:])"
   ]
  },
  {
   "cell_type": "code",
   "execution_count": 33,
   "id": "2ab78dcf",
   "metadata": {},
   "outputs": [
    {
     "name": "stdout",
     "output_type": "stream",
     "text": [
      "15\n"
     ]
    }
   ],
   "source": [
    "my_list = [1, 2, 3, 4, 5]\n",
    "result = sum_list_elements(my_list)\n",
    "print(result)  "
   ]
  },
  {
   "cell_type": "markdown",
   "id": "2aa72e02",
   "metadata": {},
   "source": [
    "<b>------------------------------------------------------------------------------------------------------------------------------------------------------------------------------------------------------------------"
   ]
  },
  {
   "cell_type": "markdown",
   "id": "1ee6781f",
   "metadata": {},
   "source": [
    "<b>Number 14 - \n",
    "- Question -\n",
    "> Write a recursive function to determine whether a given string is a palindrome.\n",
    "    \n",
    "    \n",
    "- Answer -\n",
    "> In this recursive function, there are three main cases:\n",
    "\n",
    ">- Base Case: If the length of the string is less than or equal to 1, it is considered a palindrome (e.g., an empty string or a single character).\n",
    ">- Case for Mismatched Characters: If the first and last characters of the string are not the same, it is not a palindrome.\n",
    ">- Recursive Case: If the first and last characters are the same, the function calls itself recursively with the substring obtained by excluding the first and last characters."
   ]
  },
  {
   "cell_type": "code",
   "execution_count": 34,
   "id": "94c8dd4c",
   "metadata": {},
   "outputs": [],
   "source": [
    "def is_palindrome(string):\n",
    "    if len(string) <= 1:\n",
    "        return True\n",
    "    elif string[0] != string[-1]:\n",
    "        return False\n",
    "    else:\n",
    "        return is_palindrome(string[1:-1])\n"
   ]
  },
  {
   "cell_type": "code",
   "execution_count": 35,
   "id": "e0883d64",
   "metadata": {},
   "outputs": [
    {
     "name": "stdout",
     "output_type": "stream",
     "text": [
      "True\n",
      "False\n"
     ]
    }
   ],
   "source": [
    "result1 = is_palindrome(\"radar\")\n",
    "print(result1)  \n",
    "\n",
    "result2 = is_palindrome(\"hello\")\n",
    "print(result2) \n"
   ]
  },
  {
   "cell_type": "markdown",
   "id": "80e4a406",
   "metadata": {},
   "source": [
    "<b>------------------------------------------------------------------------------------------------------------------------------------------------------------------------------------------------------------------"
   ]
  },
  {
   "cell_type": "markdown",
   "id": "423e5cf7",
   "metadata": {},
   "source": [
    "<b>Number 15 - \n",
    "- Question -\n",
    "> Implement a recursive function to find the greatest common divisor (GCD) of two positive integers.\n",
    "    \n",
    "    \n",
    "- Answer -\n"
   ]
  },
  {
   "cell_type": "code",
   "execution_count": 36,
   "id": "5d3a8abc",
   "metadata": {},
   "outputs": [],
   "source": [
    "def gcd(a, b):\n",
    "    if b == 0:\n",
    "        return a\n",
    "    else:\n",
    "        return gcd(b, a % b)\n"
   ]
  },
  {
   "cell_type": "code",
   "execution_count": 37,
   "id": "5d9bb137",
   "metadata": {},
   "outputs": [
    {
     "name": "stdout",
     "output_type": "stream",
     "text": [
      "6\n"
     ]
    }
   ],
   "source": [
    "result = gcd(48, 18)\n",
    "print(result)  "
   ]
  },
  {
   "cell_type": "markdown",
   "id": "90f21644",
   "metadata": {},
   "source": [
    "<b>------------------------------------------------------------------------------------------------------------------------------------------------------------------------------------------------------------------"
   ]
  }
 ],
 "metadata": {
  "kernelspec": {
   "display_name": "Python 3 (ipykernel)",
   "language": "python",
   "name": "python3"
  },
  "language_info": {
   "codemirror_mode": {
    "name": "ipython",
    "version": 3
   },
   "file_extension": ".py",
   "mimetype": "text/x-python",
   "name": "python",
   "nbconvert_exporter": "python",
   "pygments_lexer": "ipython3",
   "version": "3.9.7"
  }
 },
 "nbformat": 4,
 "nbformat_minor": 5
}
