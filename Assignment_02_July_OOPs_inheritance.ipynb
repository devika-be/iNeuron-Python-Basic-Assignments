{
 "cells": [
  {
   "cell_type": "markdown",
   "id": "66e4bf54",
   "metadata": {},
   "source": [
    "# Devika Prashant Pagare\n",
    "### OOPs : Assignment_02_July_OOPs_inheritance"
   ]
  },
  {
   "cell_type": "markdown",
   "id": "7a101847",
   "metadata": {},
   "source": [
    "<b>Number 1 - \n",
    "- Question -\n",
    "    \n",
    "> Explain what inheritance is in object-oriented programming and why it is used.\n",
    "    \n",
    "- Answer -\n",
    "    \n",
    "> Inheritance is a way to reuse code in object-oriented programming (OOP). It allows us to create new classes that inherit the properties and behaviors of existing classes. This can be useful for a variety of reasons, including:\n",
    "\n",
    ">- Reusing code: Inheritance allows us to reuse code that has already been written. This can save us time and effort when developing new classes.\n",
    ">- Encapsulating functionality: Inheritance can help us to encapsulate functionality in a way that is easy to understand and use. This can make our code more maintainable and reusable.\n",
    ">- Hierarchies of classes: Inheritance can be used to create hierarchies of classes. This can be useful for representing real-world relationships between objects.\n",
    "    \n",
    "> Here are some simple points about inheritance:\n",
    "\n",
    ">- Inheritance allows us to create new classes that inherit the properties and behaviors of existing classes.\n",
    ">- This can be useful for reusing code, encapsulating functionality, and creating hierarchies of classes.\n",
    ">- Inheritance can be a powerful tool for OOP, but it is important to be aware of the potential drawbacks before using it."
   ]
  },
  {
   "cell_type": "markdown",
   "id": "95a82ec9",
   "metadata": {},
   "source": [
    "<b>------------------------------------------------------------------------------------------------------------------------------------------------------------------------------------------------------------------"
   ]
  },
  {
   "cell_type": "markdown",
   "id": "413d8471",
   "metadata": {},
   "source": [
    "<b>Number 2 - \n",
    "- Question -\n",
    "    \n",
    "> Discuss the concept of single inheritance and multiple inheritance, highlighting their differences and advantages.\n",
    "\n",
    "- Answer -\n",
    "    \n",
    ">- Single inheritance is when a class inherits from only one other class. This means that the subclass inherits all of the properties and behaviors of the parent class.\n",
    "\n",
    ">- Multiple inheritance is when a class inherits from multiple other classes. This means that the subclass inherits all of the properties and behaviors of all of the parent classes.\n",
    "    \n",
    "> The advantages of single inheritance:\n",
    "\n",
    ">- Simple: Single inheritance is a simpler concept to understand and implement than multiple inheritance.\n",
    ">- Less ambiguous: Single inheritance is less likely to cause ambiguity than multiple inheritance.\n",
    ">- More efficient: Single inheritance can be more efficient than multiple inheritance because there is less code to execute.\n",
    "    \n",
    "> The advantages of multiple inheritance:\n",
    "\n",
    ">- More code reuse: Multiple inheritance allows for more code reuse than single inheritance.\n",
    ">- More flexibility: Multiple inheritance allows for more flexibility in designing class hierarchies."
   ]
  },
  {
   "cell_type": "markdown",
   "id": "f95f7ea9",
   "metadata": {},
   "source": [
    "<b>------------------------------------------------------------------------------------------------------------------------------------------------------------------------------------------------------------------"
   ]
  },
  {
   "cell_type": "markdown",
   "id": "d0f8fd01",
   "metadata": {},
   "source": [
    "<b>Number 3 - \n",
    "- Question -\n",
    "> Explain the terms \"base class\" and \"derived class\" in the context of inheritance.\n",
    "\n",
    "- Answer -\n",
    "    \n",
    "> In the context of inheritance, a base class is the class from which another class inherits. The class that inherits from the base class is called the derived class.\n",
    "    \n",
    "> For example,\n",
    "    \n",
    "> let's say we have a class called Animal. This class is the base class. We could then create a new class called Dog that inherits from the Animal class. The Dog class is the derived class.\n",
    "\n",
    "> The Dog class inherits all of the properties and behaviors of the Animal class. For example, the Dog class can eat, sleep, and make a sound. The Dog class can also have its own unique properties and behaviors, such as a breed or a name.\n",
    "\n",
    "> The terms \"base class\" and \"derived class\" are used to describe the relationship between two classes that are related through inheritance. The base class is the parent class, and the derived class is the child class."
   ]
  },
  {
   "cell_type": "markdown",
   "id": "29f970c3",
   "metadata": {},
   "source": [
    "    \n",
    "<b>------------------------------------------------------------------------------------------------------------------------------------------------------------------------------------------------------------------"
   ]
  },
  {
   "cell_type": "markdown",
   "id": "48cae11c",
   "metadata": {},
   "source": [
    "<b>Number 4 - \n",
    "- Question -\n",
    "    \n",
    "> What is the significance of the \"protected\" access modifier in inheritance? How does it differ from \"private\" and \"public\" modifiers?\n",
    "    \n",
    "- Answer -\n",
    "    \n",
    "> In object-oriented programming (OOP), access modifiers are used to control the visibility of members of a class. There are three types of access modifiers in OOP:\n",
    "\n",
    ">- Public: Members with public access can be accessed from anywhere in the program.\n",
    ">- Private: Members with private access can only be accessed from within the class itself.\n",
    ">- Protected: Members with protected access can be accessed from within the class itself and from subclasses of the class.\n"
   ]
  },
  {
   "cell_type": "markdown",
   "id": "4df18977",
   "metadata": {},
   "source": [
    "    \n",
    "<b>------------------------------------------------------------------------------------------------------------------------------------------------------------------------------------------------------------------"
   ]
  },
  {
   "cell_type": "markdown",
   "id": "c242eee3",
   "metadata": {},
   "source": [
    "<b>Number 5 - \n",
    "- Question -\n",
    "    \n",
    "> What is the purpose of the \"super\" keyword in inheritance? Provide an example.\n",
    "\n",
    "- Answer -\n",
    "    \n",
    "> In object-oriented programming (OOP), the super keyword is used to refer to the parent class in a subclass. This can be used to access the parent class's methods, properties, and constructors."
   ]
  },
  {
   "cell_type": "code",
   "execution_count": 1,
   "id": "6f6951ee",
   "metadata": {},
   "outputs": [
    {
     "name": "stdout",
     "output_type": "stream",
     "text": [
      "I am an animal!\n",
      "I am a dog! Woof!\n"
     ]
    }
   ],
   "source": [
    "class Animal:\n",
    "\n",
    "    def make_sound(self):\n",
    "        print('I am an animal!')\n",
    "\n",
    "class Dog(Animal):\n",
    "\n",
    "    def make_sound(self):\n",
    "        # Call the make_sound() method from the parent class.\n",
    "        super().make_sound()\n",
    "        print('I am a dog! Woof!')\n",
    "\n",
    "my_dog = Dog()\n",
    "my_dog.make_sound()"
   ]
  },
  {
   "cell_type": "markdown",
   "id": "bd2a7b45",
   "metadata": {},
   "source": [
    "<b>------------------------------------------------------------------------------------------------------------------------------------------------------------------------------------------------------------------"
   ]
  },
  {
   "cell_type": "markdown",
   "id": "541f2b61",
   "metadata": {},
   "source": [
    "<b>Number 6 - \n",
    "- Question -\n",
    "    \n",
    "> Create a base class called \"Vehicle\" with attributes like \"make\", \"model\", and \"year\".Then, create a derived class called \"Car\" that inherits from \"Vehicle\" and adds an attribute called \"fuel_type\". Implement appropriate methods in both classes.\n",
    "    \n",
    "- Answer -\n",
    "    "
   ]
  },
  {
   "cell_type": "code",
   "execution_count": 2,
   "id": "459cb3ab",
   "metadata": {},
   "outputs": [
    {
     "name": "stdout",
     "output_type": "stream",
     "text": [
      "Tesla\n",
      "Model S\n",
      "2023\n",
      "Electric\n"
     ]
    }
   ],
   "source": [
    "class Vehicle:\n",
    "\n",
    "    def __init__(self, make, model, year):\n",
    "        self.make = make\n",
    "        self.model = model\n",
    "        self.year = year\n",
    "\n",
    "    def get_make(self):\n",
    "        return self.make\n",
    "\n",
    "    def get_model(self):\n",
    "        return self.model\n",
    "\n",
    "    def get_year(self):\n",
    "        return self.year\n",
    "\n",
    "class Car(Vehicle):\n",
    "\n",
    "    def __init__(self, make, model, year, fuel_type):\n",
    "        super().__init__(make, model, year)\n",
    "        self.fuel_type = fuel_type\n",
    "\n",
    "    def get_fuel_type(self):\n",
    "        return self.fuel_type\n",
    "\n",
    "my_car = Car('Tesla', 'Model S', 2023, 'Electric')\n",
    "\n",
    "print(my_car.get_make())\n",
    "\n",
    "print(my_car.get_model())\n",
    "\n",
    "print(my_car.get_year())\n",
    "\n",
    "print(my_car.get_fuel_type())"
   ]
  },
  {
   "cell_type": "markdown",
   "id": "18ba735b",
   "metadata": {},
   "source": [
    "<b>------------------------------------------------------------------------------------------------------------------------------------------------------------------------------------------------------------------"
   ]
  },
  {
   "cell_type": "markdown",
   "id": "0046358b",
   "metadata": {},
   "source": [
    "<b>Number 7 - \n",
    "- Question -\n",
    "    \n",
    "> Create a base class called \"Employee\" with attributes like \"name\" and \"salary. Derive two classes, \"Manager\" and \"Developer,\" from \"Employee.\" Add an additional attribute called \"department\" for the \"Manager\" class and \"programming_language\"\n",
    "for the \"Developer\" class.\n",
    "\n",
    "    \n",
    "- Answer - "
   ]
  },
  {
   "cell_type": "code",
   "execution_count": 3,
   "id": "5a9148fd",
   "metadata": {},
   "outputs": [
    {
     "name": "stdout",
     "output_type": "stream",
     "text": [
      "John Wick\n",
      "100000\n",
      "Engineering\n",
      "Jane Doe\n",
      "50000\n",
      "Python\n"
     ]
    }
   ],
   "source": [
    "class Employee:\n",
    "\n",
    "    def __init__(self, name, salary):\n",
    "        self.name = name\n",
    "        self.salary = salary\n",
    "\n",
    "    def get_name(self):\n",
    "        return self.name\n",
    "\n",
    "    def get_salary(self):\n",
    "        return self.salary\n",
    "\n",
    "class Manager(Employee):\n",
    "\n",
    "    def __init__(self, name, salary, department):\n",
    "        super().__init__(name, salary)\n",
    "        self.department = department\n",
    "\n",
    "    def get_department(self):\n",
    "        return self.department\n",
    "\n",
    "class Developer(Employee):\n",
    "\n",
    "    def __init__(self, name, salary, programming_language):\n",
    "        super().__init__(name, salary)\n",
    "        self.programming_language = programming_language\n",
    "\n",
    "    def get_programming_language(self):\n",
    "        return self.programming_language\n",
    "\n",
    "my_manager = Manager('John Wick', 100000, 'Engineering')\n",
    "\n",
    "print(my_manager.get_name())\n",
    "\n",
    "print(my_manager.get_salary())\n",
    "\n",
    "print(my_manager.get_department())\n",
    "\n",
    "my_developer = Developer('Jane Doe', 50000, 'Python')\n",
    "\n",
    "print(my_developer.get_name())\n",
    "\n",
    "print(my_developer.get_salary())\n",
    "\n",
    "print(my_developer.get_programming_language())"
   ]
  },
  {
   "cell_type": "markdown",
   "id": "562791a9",
   "metadata": {},
   "source": [
    "    \n",
    "<b>------------------------------------------------------------------------------------------------------------------------------------------------------------------------------------------------------------------"
   ]
  },
  {
   "cell_type": "markdown",
   "id": "a3ca9de1",
   "metadata": {},
   "source": [
    "<b>Number 8 - \n",
    "- Question -\n",
    "    \n",
    "> Design a base class called \"Shape\" with attributes like \"colour\" and \"border_width.\"Create derived classes, \"Rectangle\" and \"Circle,\" that inherit from \"Shape\" and add specific attributes like \"length\" and \"width\" for the \"Rectangle\" class and \"radius\" for\n",
    "the \"Circle\" class.\n",
    "\n",
    "- Answer -"
   ]
  },
  {
   "cell_type": "code",
   "execution_count": 4,
   "id": "1069c7d2",
   "metadata": {},
   "outputs": [
    {
     "name": "stdout",
     "output_type": "stream",
     "text": [
      "red\n",
      "2\n",
      "10\n",
      "5\n",
      "blue\n",
      "1\n",
      "10\n"
     ]
    }
   ],
   "source": [
    "class Shape:\n",
    "\n",
    "    def __init__(self, color, border_width):\n",
    "        self.color = color\n",
    "        self.border_width = border_width\n",
    "\n",
    "    def get_color(self):\n",
    "        return self.color\n",
    "\n",
    "    def get_border_width(self):\n",
    "        return self.border_width\n",
    "\n",
    "class Rectangle(Shape):\n",
    "\n",
    "    def __init__(self, color, border_width, length, width):\n",
    "        super().__init__(color, border_width)\n",
    "        self.length = length\n",
    "        self.width = width\n",
    "\n",
    "    def get_length(self):\n",
    "        return self.length\n",
    "\n",
    "    def get_width(self):\n",
    "        return self.width\n",
    "\n",
    "class Circle(Shape):\n",
    "\n",
    "    def __init__(self, color, border_width, radius):\n",
    "        super().__init__(color, border_width)\n",
    "        self.radius = radius\n",
    "\n",
    "    def get_radius(self):\n",
    "        return self.radius\n",
    "\n",
    "my_rectangle = Rectangle('red', 2, 10, 5)\n",
    "\n",
    "print(my_rectangle.get_color())\n",
    "\n",
    "print(my_rectangle.get_border_width())\n",
    "\n",
    "print(my_rectangle.get_length())\n",
    "\n",
    "print(my_rectangle.get_width())\n",
    "\n",
    "my_circle = Circle('blue', 1, 10)\n",
    "\n",
    "print(my_circle.get_color())\n",
    "\n",
    "print(my_circle.get_border_width())\n",
    "\n",
    "print(my_circle.get_radius())"
   ]
  },
  {
   "cell_type": "markdown",
   "id": "888c0d22",
   "metadata": {},
   "source": [
    "<b>------------------------------------------------------------------------------------------------------------------------------------------------------------------------------------------------------------------"
   ]
  },
  {
   "cell_type": "markdown",
   "id": "01f22740",
   "metadata": {},
   "source": [
    "<b>Number 9 - \n",
    "- Question -\n",
    "\n",
    "> Create a base class called \"Device\" with attributes like \"brand\" and \"model.\" Derive two classes, \"Phone\" and \"Tablet,\" from \"Device.\" Add specific attributes like \"screen_size\" for the \"Phone\" class and \"battery_capacity\" for the \"Tablet\" class.\n",
    "\n",
    "- Answer -\n",
    "    "
   ]
  },
  {
   "cell_type": "code",
   "execution_count": 6,
   "id": "55ca717b",
   "metadata": {},
   "outputs": [
    {
     "name": "stdout",
     "output_type": "stream",
     "text": [
      "Apple\n",
      "iPhone 13 Pro\n",
      "6.1\n",
      "Samsung\n",
      "Galaxy Tab S8+\n",
      "12.4\n"
     ]
    }
   ],
   "source": [
    "class Device:\n",
    "\n",
    "    def __init__(self, brand, model):\n",
    "        self.brand = brand\n",
    "        self.model = model\n",
    "\n",
    "    def get_brand(self):\n",
    "        return self.brand\n",
    "\n",
    "    def get_model(self):\n",
    "        return self.model\n",
    "\n",
    "class Phone(Device):\n",
    "\n",
    "    def __init__(self, brand, model, screen_size):\n",
    "        super().__init__(brand, model)\n",
    "        self.screen_size = screen_size\n",
    "\n",
    "    def get_screen_size(self):\n",
    "        return self.screen_size\n",
    "\n",
    "class Tablet(Device):\n",
    "\n",
    "    def __init__(self, brand, model, battery_capacity):\n",
    "        super().__init__(brand, model)\n",
    "        self.battery_capacity = battery_capacity\n",
    "\n",
    "    def get_battery_capacity(self):\n",
    "        return self.battery_capacity\n",
    "\n",
    "my_phone = Phone('Apple', 'iPhone 13 Pro', 6.1)\n",
    "\n",
    "print(my_phone.get_brand())\n",
    "\n",
    "print(my_phone.get_model())\n",
    "\n",
    "print(my_phone.get_screen_size())\n",
    "\n",
    "my_tablet = Tablet('Samsung', 'Galaxy Tab S8+', 12.4)\n",
    "\n",
    "print(my_tablet.get_brand())\n",
    "\n",
    "print(my_tablet.get_model())\n",
    "\n",
    "print(my_tablet.get_battery_capacity())\n"
   ]
  },
  {
   "cell_type": "markdown",
   "id": "7301d92a",
   "metadata": {},
   "source": [
    "<b>------------------------------------------------------------------------------------------------------------------------------------------------------------------------------------------------------------------"
   ]
  },
  {
   "cell_type": "markdown",
   "id": "c28cd236",
   "metadata": {},
   "source": [
    "<b>Number 10 - \n",
    "- Question -\n",
    "    \n",
    "> Create a base class called \"BankAccount\" with attributes like \"account_number\" and \"balance.\" Derive two classes, \"SavingsAccount\" and \"CheckingAccount,\" from\n",
    "\"BankAccount.\" Add specific methods like \"calculate_interest\" for the \"SavingsAccount\" class and \"deduct_fees\" for the \"CheckingAccount\" class.\n",
    "\n",
    "- Answer -\n",
    "   "
   ]
  },
  {
   "cell_type": "code",
   "execution_count": 7,
   "id": "218ce743",
   "metadata": {},
   "outputs": [
    {
     "name": "stdout",
     "output_type": "stream",
     "text": [
      "123456789\n",
      "1000\n",
      "50.0\n",
      "987654321\n",
      "500\n",
      "490\n"
     ]
    }
   ],
   "source": [
    "class BankAccount:\n",
    "\n",
    "    def __init__(self, account_number, balance):\n",
    "        self.account_number = account_number\n",
    "        self.balance = balance\n",
    "\n",
    "    def get_account_number(self):\n",
    "        return self.account_number\n",
    "\n",
    "    def get_balance(self):\n",
    "        return self.balance\n",
    "\n",
    "class SavingsAccount(BankAccount):\n",
    "\n",
    "    def __init__(self, account_number, balance, interest_rate):\n",
    "        super().__init__(account_number, balance)\n",
    "        self.interest_rate = interest_rate\n",
    "\n",
    "    def calculate_interest(self):\n",
    "        interest = self.balance * self.interest_rate\n",
    "        return interest\n",
    "\n",
    "class CheckingAccount(BankAccount):\n",
    "\n",
    "    def __init__(self, account_number, balance, monthly_fee):\n",
    "        super().__init__(account_number, balance)\n",
    "        self.monthly_fee = monthly_fee\n",
    "\n",
    "    def deduct_fees(self):\n",
    "        self.balance -= self.monthly_fee\n",
    "\n",
    "my_savings_account = SavingsAccount('123456789', 1000, 0.05)\n",
    "\n",
    "print(my_savings_account.get_account_number())\n",
    "\n",
    "print(my_savings_account.get_balance())\n",
    "\n",
    "print(my_savings_account.calculate_interest())\n",
    "\n",
    "my_checking_account = CheckingAccount('987654321', 500, 10)\n",
    "\n",
    "print(my_checking_account.get_account_number())\n",
    "\n",
    "print(my_checking_account.get_balance())\n",
    "\n",
    "my_checking_account.deduct_fees()\n",
    "\n",
    "print(my_checking_account.get_balance())"
   ]
  },
  {
   "cell_type": "markdown",
   "id": "c7c2c13d",
   "metadata": {},
   "source": [
    "<b>------------------------------------------------------------------------------------------------------------------------------------------------------------------------------------------------------------------"
   ]
  }
 ],
 "metadata": {
  "kernelspec": {
   "display_name": "Python 3 (ipykernel)",
   "language": "python",
   "name": "python3"
  },
  "language_info": {
   "codemirror_mode": {
    "name": "ipython",
    "version": 3
   },
   "file_extension": ".py",
   "mimetype": "text/x-python",
   "name": "python",
   "nbconvert_exporter": "python",
   "pygments_lexer": "ipython3",
   "version": "3.9.7"
  }
 },
 "nbformat": 4,
 "nbformat_minor": 5
}
