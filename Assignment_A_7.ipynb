{
 "cells": [
  {
   "cell_type": "markdown",
   "id": "66e4bf54",
   "metadata": {},
   "source": [
    "# Devika Prashant Pagare\n",
    "#### Python : Assignment No. : 7"
   ]
  },
  {
   "cell_type": "markdown",
   "id": "7a101847",
   "metadata": {},
   "source": [
    "<b>Number 1 - \n",
    "- Question -\n",
    "> Create two int type variables, apply addition, subtraction, division and multiplications and store the results in variables. Then print the data in the following format by calling the variables:\n",
    "\n",
    ">- First variable is __ & second variable is __.\n",
    ">- Addition: __ + __ = __\n",
    ">- Subtraction: __ - __ = __\n",
    ">- Multiplication: __ * __ = __\n",
    ">- Division: __ / __ = __\n",
    "\n",
    "- Answer -"
   ]
  },
  {
   "cell_type": "code",
   "execution_count": 2,
   "id": "eae2ade8",
   "metadata": {},
   "outputs": [
    {
     "name": "stdout",
     "output_type": "stream",
     "text": [
      "First variable is 10 & second variable is 5\n",
      "Addition: 10 + 5 = 15\n",
      "Subtraction: 10 - 5 = 5\n",
      "Multiplication: 10 * 5 = 50\n",
      "Division: 10 / 5 = 2.0\n"
     ]
    }
   ],
   "source": [
    "# Creating variables and performing operations\n",
    "first_variable = 10\n",
    "second_variable = 5\n",
    "\n",
    "addition_result = first_variable + second_variable\n",
    "subtraction_result = first_variable - second_variable\n",
    "multiplication_result = first_variable * second_variable\n",
    "division_result = first_variable / second_variable\n",
    "\n",
    "# results\n",
    "print(\"First variable is\", first_variable, \"& second variable is\", second_variable)\n",
    "print(\"Addition:\", first_variable, \"+\", second_variable, \"=\", addition_result)\n",
    "print(\"Subtraction:\", first_variable, \"-\", second_variable, \"=\", subtraction_result)\n",
    "print(\"Multiplication:\", first_variable, \"*\", second_variable, \"=\", multiplication_result)\n",
    "print(\"Division:\", first_variable, \"/\", second_variable, \"=\", division_result)\n"
   ]
  },
  {
   "cell_type": "markdown",
   "id": "7dc23a02",
   "metadata": {},
   "source": [
    "<b>------------------------------------------------------------------------------------------------------------------------------------------------------------------------------------------------------------------"
   ]
  },
  {
   "cell_type": "markdown",
   "id": "413d8471",
   "metadata": {},
   "source": [
    "<b>Number 2 - \n",
    "- Question -\n",
    "> What is the difference between the following operators:\n",
    ">- (i) ‘/’ & ‘//’\n",
    ">- (ii) ‘**’ & ‘^’\n",
    "\n",
    "- Answer -\n",
    ">- (i) The '/' operator is used for division and returns a floating-point result, while the '//' operator is used for floor division and returns the integer quotient without the decimal part.\n",
    "\n",
    ">- (ii) The '**' operator is used for exponentiation and calculates the power of a number, while the '^' operator is not a valid operator for exponentiation in Python."
   ]
  },
  {
   "cell_type": "markdown",
   "id": "d0f8fd01",
   "metadata": {},
   "source": [
    "<b>Number 3 - \n",
    "- Question -\n",
    "> List the logical operators.\n",
    "\n",
    "- Answer -\n",
    ">- and: Returns True if both operands are True, otherwise returns False.\n",
    ">- or: Returns True if at least one of the operands is True, otherwise returns False.\n",
    ">- not: Returns the opposite of the operand's logical value. If the operand is True, not returns False, and vice versa.\n",
    "\n",
    "    These logical operators are used to perform logical operations on Boolean values or expressions.\n",
    "\n",
    "    \n",
    "<b>------------------------------------------------------------------------------------------------------------------------------------------------------------------------------------------------------------------"
   ]
  },
  {
   "cell_type": "markdown",
   "id": "48cae11c",
   "metadata": {},
   "source": [
    "<b>Number 4 - \n",
    "- Question -\n",
    "> Explain right shift operator and left shift operator with examples.\n",
    "\n",
    "- Answer -\n",
    "> The right shift operator (>>) and left shift operator (<<) are bitwise shift operators in Python. They manipulate the binary representation of integers by shifting the bits to the right or left.\n",
    "\n",
    "1. Right Shift Operator (>>):"
   ]
  },
  {
   "cell_type": "code",
   "execution_count": 4,
   "id": "2e1d4a14",
   "metadata": {},
   "outputs": [
    {
     "name": "stdout",
     "output_type": "stream",
     "text": [
      "4\n"
     ]
    }
   ],
   "source": [
    "x = 16  # Binary: 10000\n",
    "\n",
    "result = x >> 2  # Binary: 00100, Decimal: 4\n",
    "\n",
    "print(result)\n"
   ]
  },
  {
   "cell_type": "markdown",
   "id": "2f6f3577",
   "metadata": {},
   "source": [
    "2. Left Shift Operator (<<):"
   ]
  },
  {
   "cell_type": "code",
   "execution_count": 5,
   "id": "0b2d1ff4",
   "metadata": {},
   "outputs": [
    {
     "name": "stdout",
     "output_type": "stream",
     "text": [
      "16\n"
     ]
    }
   ],
   "source": [
    "x = 4  # Binary: 00100\n",
    "\n",
    "result = x << 2  # Binary: 10000, Decimal: 16\n",
    "\n",
    "print(result) "
   ]
  },
  {
   "cell_type": "markdown",
   "id": "33e76aeb",
   "metadata": {},
   "source": [
    "<b>------------------------------------------------------------------------------------------------------------------------------------------------------------------------------------------------------------------"
   ]
  },
  {
   "cell_type": "markdown",
   "id": "c242eee3",
   "metadata": {},
   "source": [
    "<b>Number 5 - \n",
    "- Question -\n",
    "> Create a list containing int type data of length 15. Then write a code to check if 10 is present in the list or not.\n",
    "\n",
    "- Answer -"
   ]
  },
  {
   "cell_type": "code",
   "execution_count": 7,
   "id": "6f072bc3",
   "metadata": {},
   "outputs": [
    {
     "name": "stdout",
     "output_type": "stream",
     "text": [
      "10 is present in the list.\n"
     ]
    }
   ],
   "source": [
    "my_list = [2, 5, 8, 3, 10, 6, 1, 9, 4, 7, 15, 12, 11, 13, 14]\n",
    "\n",
    "if 10 in my_list:\n",
    "    print(\"10 is present in the list.\")\n",
    "else:\n",
    "    print(\"10 is not present in the list.\")\n"
   ]
  },
  {
   "cell_type": "markdown",
   "id": "836cc58d",
   "metadata": {},
   "source": [
    "<b>------------------------------------------------------------------------------------------------------------------------------------------------------------------------------------------------------------------"
   ]
  },
  {
   "cell_type": "code",
   "execution_count": null,
   "id": "deea966f",
   "metadata": {},
   "outputs": [],
   "source": []
  }
 ],
 "metadata": {
  "kernelspec": {
   "display_name": "Python 3 (ipykernel)",
   "language": "python",
   "name": "python3"
  },
  "language_info": {
   "codemirror_mode": {
    "name": "ipython",
    "version": 3
   },
   "file_extension": ".py",
   "mimetype": "text/x-python",
   "name": "python",
   "nbconvert_exporter": "python",
   "pygments_lexer": "ipython3",
   "version": "3.9.7"
  }
 },
 "nbformat": 4,
 "nbformat_minor": 5
}
