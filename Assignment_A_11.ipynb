{
 "cells": [
  {
   "cell_type": "markdown",
   "id": "66e4bf54",
   "metadata": {},
   "source": [
    "# Devika Prashant Pagare\n",
    "#### Python : Assignment No. : 11"
   ]
  },
  {
   "cell_type": "markdown",
   "id": "7a101847",
   "metadata": {},
   "source": [
    "<b>Number 1 - \n",
    "- Question -\n",
    "> What is the role of the 'else' block in a try-except statement? Provide an example scenario where it would be useful.\n",
    "    \n",
    "- Answer -\n",
    "> The else block in a try-except statement is executed if the try block does not raise an exception. This means that the code in the else block will only be executed if the code in the try block runs successfully."
   ]
  },
  {
   "cell_type": "code",
   "execution_count": 4,
   "id": "2a357869",
   "metadata": {},
   "outputs": [
    {
     "name": "stdout",
     "output_type": "stream",
     "text": [
      "Error: n must be non-negative\n"
     ]
    }
   ],
   "source": [
    "def factorial(n):\n",
    "    if n < 0:\n",
    "        raise ValueError(\"n must be non-negative\")\n",
    "    if n == 0:\n",
    "        return 1\n",
    "    return n * factorial(n - 1)\n",
    "\n",
    "try:\n",
    "    print(factorial(-1))\n",
    "except ValueError:\n",
    "    print(\"Error: n must be non-negative\")\n",
    "else:\n",
    "    print(\"No error\")"
   ]
  },
  {
   "cell_type": "markdown",
   "id": "95a82ec9",
   "metadata": {},
   "source": [
    "<b>------------------------------------------------------------------------------------------------------------------------------------------------------------------------------------------------------------------"
   ]
  },
  {
   "cell_type": "markdown",
   "id": "413d8471",
   "metadata": {},
   "source": [
    "<b>Number 2 - \n",
    "- Question -\n",
    "> Can a try-except block be nested inside another try-except block? Explain with an example.\n",
    "\n",
    "- Answer -\n",
    "> Yes, a lambda function in Python can have multiple arguments. Multiple arguments can be defined by separating them with commas in the lambda function's argument list, and they can be used in the function's expression for computation or manipulation."
   ]
  },
  {
   "cell_type": "code",
   "execution_count": 5,
   "id": "7396511e",
   "metadata": {},
   "outputs": [
    {
     "name": "stdout",
     "output_type": "stream",
     "text": [
      "File not found\n"
     ]
    }
   ],
   "source": [
    "def open_file(filename):\n",
    "    try:\n",
    "        with open(filename, \"r\") as f:\n",
    "            print(f.read())\n",
    "    except FileNotFoundError:\n",
    "        print(\"File not found\")\n",
    "    except ValueError:\n",
    "        print(\"Invalid file name\")\n",
    "\n",
    "try:\n",
    "    open_file(\"my_file.txt\")\n",
    "except FileNotFoundError:\n",
    "    print(\"File not found\")\n",
    "except ValueError:\n",
    "    print(\"Invalid file name\")"
   ]
  },
  {
   "cell_type": "markdown",
   "id": "f95f7ea9",
   "metadata": {},
   "source": [
    "<b>------------------------------------------------------------------------------------------------------------------------------------------------------------------------------------------------------------------"
   ]
  },
  {
   "cell_type": "markdown",
   "id": "d0f8fd01",
   "metadata": {},
   "source": [
    "<b>Number 3 - \n",
    "- Question -\n",
    "> How can you create a custom exception class in Python? Provide an example that demonstrates its usage.\n",
    "\n",
    "- Answer -"
   ]
  },
  {
   "cell_type": "code",
   "execution_count": 6,
   "id": "12794c35",
   "metadata": {},
   "outputs": [
    {
     "name": "stdout",
     "output_type": "stream",
     "text": [
      "This is my custom exception\n"
     ]
    }
   ],
   "source": [
    "class MyException(Exception):\n",
    "    \"\"\"This is a custom exception class.\"\"\"\n",
    "\n",
    "    def __init__(self, message):\n",
    "        super().__init__(message)\n",
    "\n",
    "        self.message = message\n",
    "\n",
    "def raise_my_exception():\n",
    "    raise MyException(\"This is my custom exception\")\n",
    "\n",
    "try:\n",
    "    raise_my_exception()\n",
    "except MyException as e:\n",
    "    print(e.message)"
   ]
  },
  {
   "cell_type": "markdown",
   "id": "29f970c3",
   "metadata": {},
   "source": [
    "    \n",
    "<b>------------------------------------------------------------------------------------------------------------------------------------------------------------------------------------------------------------------"
   ]
  },
  {
   "cell_type": "markdown",
   "id": "48cae11c",
   "metadata": {},
   "source": [
    "<b>Number 4 - \n",
    "- Question -\n",
    "> What are some common exceptions that are built-in to Python?\n",
    "    \n",
    "- Answer -\n",
    ">- ArithmeticError - Raised for various arithmetic errors, such as:\n",
    "OverflowError,\n",
    "ZeroDivisionError and\n",
    "FloatingPointError\n",
    ">- AssertionError - Raised when an assert statement fails.\n",
    ">- AttributeError - Raised when an attribute reference or assignment fails.\n",
    ">- EOFError - Raised when the end-of-file is reached unexpectedly.\n",
    ">- FileNotFoundError - Raised when a file cannot be found.\n",
    ">- ImportError - Raised when a module cannot be imported.\n",
    ">- IndexError - Raised when an index is out of bounds.\n",
    ">- KeyError - Raised when a key is not found in a dictionary.\n",
    ">- LookupError - Raised when a key or index is not found.\n",
    ">- NameError - Raised when a variable is not defined.\n",
    ">- TypeError - Raised when an operation is performed on an object of an incorrect type.\n",
    ">- ValueError - Raised when a value is not of the correct type or format\n",
    "\n",
    "    \n",
    "<b>------------------------------------------------------------------------------------------------------------------------------------------------------------------------------------------------------------------"
   ]
  },
  {
   "cell_type": "markdown",
   "id": "c242eee3",
   "metadata": {},
   "source": [
    "<b>Number 5 - \n",
    "- Question -\n",
    "> What is logging in Python, and why is it important in software development?\n",
    "\n",
    "- Answer -\n",
    ">- Here are some of the benefits of using logging in Python:\n",
    "\n",
    ">- Debugging: Logging can help you to track down errors in your code. By logging the different events that happen when your software runs, you can get a better understanding of what was happening at the time of the error. This information can help you to identify the source of the error and fix it.\n",
    ">- Understanding user behavior: Logging can help you to understand how your software is being used. By logging the different events that happen when your software runs, you can get a better understanding of how users are interacting with it. This information can be used to improve the usability of your software.\n",
    ">- Troubleshooting: Logging can help you to troubleshoot problems with your software. If your software is not performing as expected, you can use the logs to see what is happening. This information can help you to identify the problem and fix it.\n",
    ">- Compliance: In some cases, logging may be required by law or regulation. For example, financial institutions may be required to log all transactions.\n"
   ]
  },
  {
   "cell_type": "markdown",
   "id": "bd2a7b45",
   "metadata": {},
   "source": [
    "<b>------------------------------------------------------------------------------------------------------------------------------------------------------------------------------------------------------------------"
   ]
  },
  {
   "cell_type": "markdown",
   "id": "541f2b61",
   "metadata": {},
   "source": [
    "<b>Number 6 - \n",
    "- Question -\n",
    "> Explain the purpose of log levels in Python logging and provide examples of when each log level would be appropriate.\n",
    "    \n",
    "    \n",
    "- Answer -\n",
    "> In this lambda function, the input number x is squared using the exponentiation operator **. The lambda function is assigned to the variable square. \n",
    "    "
   ]
  },
  {
   "cell_type": "code",
   "execution_count": 7,
   "id": "459cb3ab",
   "metadata": {},
   "outputs": [],
   "source": [
    "square = lambda x: x ** 2"
   ]
  },
  {
   "cell_type": "code",
   "execution_count": 8,
   "id": "9a37e407",
   "metadata": {},
   "outputs": [
    {
     "name": "stdout",
     "output_type": "stream",
     "text": [
      "<function <lambda> at 0x000001FCB6D821F0>\n"
     ]
    }
   ],
   "source": [
    "print(square)"
   ]
  },
  {
   "cell_type": "code",
   "execution_count": 9,
   "id": "ce773685",
   "metadata": {},
   "outputs": [
    {
     "name": "stdout",
     "output_type": "stream",
     "text": [
      "25\n"
     ]
    }
   ],
   "source": [
    "result = square(5)\n",
    "print(result)  "
   ]
  },
  {
   "cell_type": "markdown",
   "id": "18ba735b",
   "metadata": {},
   "source": [
    "<b>------------------------------------------------------------------------------------------------------------------------------------------------------------------------------------------------------------------"
   ]
  },
  {
   "cell_type": "markdown",
   "id": "0046358b",
   "metadata": {},
   "source": [
    "<b>Number 7 - \n",
    "- Question -\n",
    "> What are log formatters in Python logging, and how can you customise the log message format using formatters?\n",
    "\n",
    "- Answer - You can use the following format specifies:\n",
    "    \n",
    ">- %(asctime)s - The timestamp of the log message.\n",
    ">- %(name)s - The name of the logger that generated the log message.\n",
    ">- %(levelname)s - The level of the log message.\n",
    ">- %(message)s - The message of the log message."
   ]
  },
  {
   "cell_type": "code",
   "execution_count": 10,
   "id": "5a9148fd",
   "metadata": {},
   "outputs": [
    {
     "name": "stderr",
     "output_type": "stream",
     "text": [
      "2023-07-25 22:46:38,793 - __main__ - INFO - This is an info message\n",
      "2023-07-25 22:46:38,793 - __main__ - INFO - This is an info message\n",
      "2023-07-25 22:46:38,793 - __main__ - INFO - This is an info message\n",
      "2023-07-25 22:46:38,793 - __main__ - INFO - This is an info message\n",
      "2023-07-25 22:46:38,808 - __main__ - WARNING - This is a warning message\n",
      "2023-07-25 22:46:38,808 - __main__ - WARNING - This is a warning message\n",
      "2023-07-25 22:46:38,808 - __main__ - WARNING - This is a warning message\n",
      "2023-07-25 22:46:38,808 - __main__ - WARNING - This is a warning message\n",
      "2023-07-25 22:46:38,817 - __main__ - ERROR - This is an error message\n",
      "2023-07-25 22:46:38,817 - __main__ - ERROR - This is an error message\n",
      "2023-07-25 22:46:38,817 - __main__ - ERROR - This is an error message\n",
      "2023-07-25 22:46:38,817 - __main__ - ERROR - This is an error message\n"
     ]
    }
   ],
   "source": [
    "import logging\n",
    "\n",
    "formatter = logging.Formatter('%(asctime)s - %(name)s - %(levelname)s - %(message)s')\n",
    "\n",
    "logger = logging.getLogger(__name__)\n",
    "logger.setLevel(logging.INFO)\n",
    "\n",
    "handler = logging.StreamHandler()\n",
    "handler.setFormatter(formatter)\n",
    "\n",
    "logger.addHandler(handler)\n",
    "\n",
    "logger.info('This is an info message')\n",
    "logger.warning('This is a warning message')\n",
    "logger.error('This is an error message')\n"
   ]
  },
  {
   "cell_type": "markdown",
   "id": "562791a9",
   "metadata": {},
   "source": [
    "    \n",
    "<b>------------------------------------------------------------------------------------------------------------------------------------------------------------------------------------------------------------------"
   ]
  },
  {
   "cell_type": "markdown",
   "id": "a3ca9de1",
   "metadata": {},
   "source": [
    "<b>Number 8 - \n",
    "- Question -\n",
    "> How can you set up logging to capture log messages from multiple modules or classes in a Python application?\n",
    "\n",
    "- Answer -"
   ]
  },
  {
   "cell_type": "code",
   "execution_count": 11,
   "id": "a71b695e",
   "metadata": {},
   "outputs": [
    {
     "name": "stderr",
     "output_type": "stream",
     "text": [
      "2023-07-25 22:46:42,689 - my_module - DEBUG - This is a debug message from my_module.\n",
      "2023-07-25 22:46:42,689 - my_module - DEBUG - This is a debug message from my_module.\n",
      "2023-07-25 22:46:42,689 - my_module - DEBUG - This is a debug message from my_module.\n",
      "2023-07-25 22:46:42,696 - MyClass - WARNING - This is a warning message from MyClass.\n",
      "2023-07-25 22:46:42,696 - MyClass - WARNING - This is a warning message from MyClass.\n",
      "2023-07-25 22:46:42,696 - MyClass - WARNING - This is a warning message from MyClass.\n"
     ]
    }
   ],
   "source": [
    "import logging\n",
    "\n",
    "# Create a root logger and set its level to INFO.\n",
    "root_logger = logging.getLogger()\n",
    "root_logger.setLevel(logging.INFO)\n",
    "\n",
    "# Create a formatter for the root logger.\n",
    "formatter = logging.Formatter('%(asctime)s - %(name)s - %(levelname)s - %(message)s')\n",
    "\n",
    "# Create a handler for the root logger and attach the formatter to it.\n",
    "stream_handler = logging.StreamHandler()\n",
    "stream_handler.setFormatter(formatter)\n",
    "\n",
    "root_logger.addHandler(stream_handler)\n",
    "\n",
    "# Create a logger for the `my_module` module.\n",
    "my_module_logger = logging.getLogger('my_module')\n",
    "my_module_logger.setLevel(logging.DEBUG)\n",
    "\n",
    "# Create a logger for the `MyClass` class.\n",
    "my_class_logger = logging.getLogger('MyClass')\n",
    "my_class_logger.setLevel(logging.WARNING)\n",
    "\n",
    "# Start logging messages.\n",
    "my_module_logger.debug('This is a debug message from my_module.')\n",
    "my_class_logger.warning('This is a warning message from MyClass.')\n"
   ]
  },
  {
   "cell_type": "markdown",
   "id": "888c0d22",
   "metadata": {},
   "source": [
    "<b>------------------------------------------------------------------------------------------------------------------------------------------------------------------------------------------------------------------"
   ]
  },
  {
   "cell_type": "markdown",
   "id": "01f22740",
   "metadata": {},
   "source": [
    "<b>Number 9 - \n",
    "- Question -\n",
    "> What is the difference between the logging and print statements in Python? When should you use logging over print statements in a real-world application?\n",
    "\n",
    "\n",
    "- Answer -\n",
    "    \n",
    "> Print and logging are both used to output text in Python. However, they have different purposes and should be used in different situations.\n",
    "\n",
    "> Print is a simple way to output text to the console. It is not very structured and does not have any levels or formatting options. This makes it less useful for logging messages in a real-world application.\n",
    "\n",
    "> Logging is a more structured way of logging messages. You can specify the level of the message, the logger that the message is being logged to, and the format of the message. This makes it easier to filter and analyze log messages.\n",
    "    \n",
    "> In a real-world application,\n",
    "    \n",
    ">- Logging is more structured. This makes it easier to filter and analyze log messages.\n",
    "\n",
    ">- Logging can be sent to a remote server. This allows you to centralize your log messages and make them accessible from anywhere.\n",
    "    \n",
    ">- To log errors and exceptions. This can help you to track down and fix bugs in your application.\n",
    "    \n",
    ">- To log the progress of your application. This can help you to understand how your application is performing and identify any bottlenecks."
   ]
  },
  {
   "cell_type": "markdown",
   "id": "7301d92a",
   "metadata": {},
   "source": [
    "<b>------------------------------------------------------------------------------------------------------------------------------------------------------------------------------------------------------------------"
   ]
  },
  {
   "cell_type": "markdown",
   "id": "c28cd236",
   "metadata": {},
   "source": [
    "<b>Number 10 - \n",
    "- Question -\n",
    "> Write a Python program that logs a message to a file named \"app.log\" with the following requirements:\n",
    ">- The log message should be \"Hello, World!\"\n",
    ">- The log level should be set to \"INFO.\"\n",
    ">- The log file should append new log entries without overwriting previous ones.\n",
    "\n",
    "- Answer -\n",
    "    \n",
    "> File : app.log"
   ]
  },
  {
   "cell_type": "code",
   "execution_count": 12,
   "id": "218ce743",
   "metadata": {},
   "outputs": [
    {
     "name": "stderr",
     "output_type": "stream",
     "text": [
      "2023-07-25 22:57:38,754 - __main__ - INFO - Hello, World!\n",
      "2023-07-25 22:57:38,754 - __main__ - INFO - Hello, World!\n",
      "2023-07-25 22:57:38,754 - __main__ - INFO - Hello, World!\n",
      "2023-07-25 22:57:38,754 - __main__ - INFO - Hello, World!\n",
      "2023-07-25 22:57:38,754 - __main__ - INFO - Hello, World!\n"
     ]
    }
   ],
   "source": [
    "import logging\n",
    "\n",
    "# Create a logger and set its level to INFO.\n",
    "logger = logging.getLogger(__name__)\n",
    "logger.setLevel(logging.INFO)\n",
    "\n",
    "# Create a file handler and set it to append new log entries.\n",
    "file_handler = logging.FileHandler('app.log', 'a')\n",
    "\n",
    "# Create a formatter and set the format of the log message.\n",
    "formatter = logging.Formatter('%(asctime)s - %(name)s - %(levelname)s - %(message)s')\n",
    "\n",
    "# Add the formatter to the file handler.\n",
    "file_handler.setFormatter(formatter)\n",
    "\n",
    "# Add the file handler to the logger.\n",
    "logger.addHandler(file_handler)\n",
    "\n",
    "# Log a message with the level INFO.\n",
    "logger.info('Hello, World!')\n"
   ]
  },
  {
   "cell_type": "markdown",
   "id": "a3630373",
   "metadata": {},
   "source": [
    "    \n",
    "<b>------------------------------------------------------------------------------------------------------------------------------------------------------------------------------------------------------------------"
   ]
  },
  {
   "cell_type": "markdown",
   "id": "9c853bce",
   "metadata": {},
   "source": [
    "<b>Number 11 - \n",
    "- Question -\n",
    "> Create a Python program that logs an error message to the console and a file named \"errors.log\" if an exception occurs during the program's execution. The error message should include the exception type and a timestamp.\n",
    "    \n",
    "- Answer -"
   ]
  },
  {
   "cell_type": "code",
   "execution_count": 13,
   "id": "0ebada09",
   "metadata": {},
   "outputs": [
    {
     "name": "stderr",
     "output_type": "stream",
     "text": [
      "2023-07-25 22:59:20,320 - root - ERROR - An exception occurred: This is an exception\n",
      "2023-07-25 22:59:20,320 - root - ERROR - An exception occurred: This is an exception\n",
      "2023-07-25 22:59:20,320 - root - ERROR - An exception occurred: This is an exception\n",
      "2023-07-25 22:59:20,332 - root - ERROR - An exception occurred: This is an exception\n",
      "2023-07-25 22:59:20,332 - root - ERROR - An exception occurred: This is an exception\n",
      "2023-07-25 22:59:20,332 - root - ERROR - An exception occurred: This is an exception\n"
     ]
    }
   ],
   "source": [
    "import logging\n",
    "\n",
    "def my_function():\n",
    "    try:\n",
    "        raise Exception('This is an exception')\n",
    "    except Exception as e:\n",
    "        # Log the error message to the console.\n",
    "        logging.error('An exception occurred: {}'.format(e))\n",
    "\n",
    "        # Log the error message to a file.\n",
    "        file_handler = logging.FileHandler('errors.log')\n",
    "        formatter = logging.Formatter('%(asctime)s - %(name)s - %(levelname)s - %(message)s')\n",
    "        file_handler.setFormatter(formatter)\n",
    "        logging.getLogger().addHandler(file_handler)\n",
    "        logging.error('An exception occurred: {}'.format(e))\n",
    "\n",
    "if __name__ == '__main__':\n",
    "    my_function()\n"
   ]
  },
  {
   "cell_type": "markdown",
   "id": "c7c2c13d",
   "metadata": {},
   "source": [
    "<b>------------------------------------------------------------------------------------------------------------------------------------------------------------------------------------------------------------------"
   ]
  }
 ],
 "metadata": {
  "kernelspec": {
   "display_name": "Python 3 (ipykernel)",
   "language": "python",
   "name": "python3"
  },
  "language_info": {
   "codemirror_mode": {
    "name": "ipython",
    "version": 3
   },
   "file_extension": ".py",
   "mimetype": "text/x-python",
   "name": "python",
   "nbconvert_exporter": "python",
   "pygments_lexer": "ipython3",
   "version": "3.9.7"
  }
 },
 "nbformat": 4,
 "nbformat_minor": 5
}
