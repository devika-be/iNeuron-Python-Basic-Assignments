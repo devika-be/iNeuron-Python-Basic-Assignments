{
 "cells": [
  {
   "cell_type": "markdown",
   "id": "66e4bf54",
   "metadata": {},
   "source": [
    "# Devika Prashant Pagare\n",
    "#### Python : Assignment No. : 6"
   ]
  },
  {
   "cell_type": "markdown",
   "id": "7a101847",
   "metadata": {},
   "source": [
    "<b>Number 1 - \n",
    "- Question -\n",
    "> What are keywords in python? Using the keyword library, print all the python keywords.\n",
    "\n",
    "- Answer -\n",
    "> In Python, keywords are reserved words that have predefined meanings and cannot be used as identifiers (variable names, function names, etc.) because they are part of the Python language syntax. These keywords are used to define the structure and logic of Python programs.\n",
    "\n",
    "    \n",
    "<b>------------------------------------------------------------------------------------------------------------------------------------------------------------------------------------------------------------------"
   ]
  },
  {
   "cell_type": "code",
   "execution_count": 1,
   "id": "eae2ade8",
   "metadata": {},
   "outputs": [
    {
     "name": "stdout",
     "output_type": "stream",
     "text": [
      "False\n",
      "None\n",
      "True\n",
      "__peg_parser__\n",
      "and\n",
      "as\n",
      "assert\n",
      "async\n",
      "await\n",
      "break\n",
      "class\n",
      "continue\n",
      "def\n",
      "del\n",
      "elif\n",
      "else\n",
      "except\n",
      "finally\n",
      "for\n",
      "from\n",
      "global\n",
      "if\n",
      "import\n",
      "in\n",
      "is\n",
      "lambda\n",
      "nonlocal\n",
      "not\n",
      "or\n",
      "pass\n",
      "raise\n",
      "return\n",
      "try\n",
      "while\n",
      "with\n",
      "yield\n"
     ]
    }
   ],
   "source": [
    "# To print all the Python keywords, you can use the keyword module.\n",
    "\n",
    "import keyword\n",
    "\n",
    "all_keywords = keyword.kwlist\n",
    "\n",
    "for keyword in all_keywords:\n",
    "    print(keyword)\n"
   ]
  },
  {
   "cell_type": "markdown",
   "id": "413d8471",
   "metadata": {},
   "source": [
    "<b>Number 2 - \n",
    "- Question -\n",
    "> What are the rules to create variables in python?\n",
    "\n",
    "- Answer -\n",
    "> 1. Variable names can consist of letters, digits, and underscores, starting with a letter or underscore.\n",
    "> 2. Avoid using reserved keywords as variable names.\n",
    "> 3. Use lowercase letters and underscores for variable names (snake_case convention).\n",
    "> 4. Assignment is done using the equals (=) operator.\n",
    "> 5. Python is dynamically typed, so you don't need to declare the variable type explicitly."
   ]
  },
  {
   "cell_type": "markdown",
   "id": "d0f8fd01",
   "metadata": {},
   "source": [
    "<b>Number 3 - \n",
    "- Question -\n",
    "> What are the standards and conventions followed for the nomenclature of variables in\n",
    "python to improve code readability and maintainability?\n",
    "\n",
    "- Answer -\n",
    "> The standards and conventions followed for variable naming in Python to improve code readability and maintainability can be summarized as follows: Use descriptive names in lowercase with underscores (snake_case), avoid single-character names, be consistent, avoid reserved words, use meaningful abbreviations when appropriate, use uppercase letters for constants, and follow PEP 8 guidelines.\n",
    "\n",
    "    \n",
    "<b>------------------------------------------------------------------------------------------------------------------------------------------------------------------------------------------------------------------"
   ]
  },
  {
   "cell_type": "markdown",
   "id": "48cae11c",
   "metadata": {},
   "source": [
    "<b>Number 4 - \n",
    "- Question -\n",
    "> What is the most significant distinction between a dictionary and a list?\n",
    "\n",
    "- Answer -\n",
    "> If a keyword is used as a variable name in Python, it will result in a syntax error.\n",
    "\n",
    "    \n",
    "<b>------------------------------------------------------------------------------------------------------------------------------------------------------------------------------------------------------------------"
   ]
  },
  {
   "cell_type": "markdown",
   "id": "c242eee3",
   "metadata": {},
   "source": [
    "<b>Number 5 - \n",
    "- Question -\n",
    "> For what purpose def keyword is used?\n",
    "\n",
    "- Answer -\n",
    "> The def keyword in Python is used to define a function. It is followed by the function name and a pair of parentheses, which may include function parameters.\n",
    "\n",
    "    \n",
    "<b>------------------------------------------------------------------------------------------------------------------------------------------------------------------------------------------------------------------"
   ]
  },
  {
   "cell_type": "markdown",
   "id": "541f2b61",
   "metadata": {},
   "source": [
    "<b>Number 6 - \n",
    "- Question -\n",
    "> What is the operation of this special character ‘\\’?\n",
    "\n",
    "- Answer -\n",
    "> The backslash character () in Python is known as the escape character. It is used to escape special characters and create escape sequences within strings.\n",
    "\n",
    "Some commonly used escape sequences include:\n",
    "\n",
    ">- \\n: Newline\n",
    ">- \\t: Tab\n",
    ">- \\\": Double quote\n",
    ">- \\': Single quote\n",
    ">- \\\\: Backslash\n",
    "\n",
    "    \n",
    "<b>------------------------------------------------------------------------------------------------------------------------------------------------------------------------------------------------------------------"
   ]
  },
  {
   "cell_type": "markdown",
   "id": "0046358b",
   "metadata": {},
   "source": [
    "<b>Number 7 - \n",
    "- Question -\n",
    "> Give an example of the following conditions:\n",
    "(i) Homogeneous list\n",
    "(ii) Heterogeneous set\n",
    "(iii) Homogeneous tuple\n",
    "\n",
    "- Answer -"
   ]
  },
  {
   "cell_type": "code",
   "execution_count": 6,
   "id": "5a9148fd",
   "metadata": {},
   "outputs": [],
   "source": [
    "# (i) Homogeneous list:\n",
    "    \n",
    "my_list = [1, 2, 3, 4, 5]"
   ]
  },
  {
   "cell_type": "code",
   "execution_count": 7,
   "id": "f4349ccc",
   "metadata": {},
   "outputs": [
    {
     "name": "stdout",
     "output_type": "stream",
     "text": [
      "[1, 2, 3, 4, 5]\n"
     ]
    }
   ],
   "source": [
    "print(my_list)"
   ]
  },
  {
   "cell_type": "code",
   "execution_count": 8,
   "id": "bca786e3",
   "metadata": {},
   "outputs": [],
   "source": [
    "# (ii) Heterogeneous set:\n",
    "    \n",
    "my_set = {1, \"apple\", 3.14, True}"
   ]
  },
  {
   "cell_type": "code",
   "execution_count": 9,
   "id": "5edefa2d",
   "metadata": {},
   "outputs": [
    {
     "name": "stdout",
     "output_type": "stream",
     "text": [
      "{1, 3.14, 'apple'}\n"
     ]
    }
   ],
   "source": [
    "print(my_set)"
   ]
  },
  {
   "cell_type": "code",
   "execution_count": 10,
   "id": "58e85705",
   "metadata": {},
   "outputs": [],
   "source": [
    "# (i) Homogeneous tuple:\n",
    "    \n",
    "my_tuple = (\"apple\", \"banana\", \"cherry\", \"durian\")\n"
   ]
  },
  {
   "cell_type": "code",
   "execution_count": 11,
   "id": "657d5b54",
   "metadata": {},
   "outputs": [
    {
     "name": "stdout",
     "output_type": "stream",
     "text": [
      "('apple', 'banana', 'cherry', 'durian')\n"
     ]
    }
   ],
   "source": [
    "print(my_tuple)"
   ]
  },
  {
   "cell_type": "markdown",
   "id": "562791a9",
   "metadata": {},
   "source": [
    "    \n",
    "<b>------------------------------------------------------------------------------------------------------------------------------------------------------------------------------------------------------------------"
   ]
  },
  {
   "cell_type": "markdown",
   "id": "a3ca9de1",
   "metadata": {},
   "source": [
    "<b>Number 8 - \n",
    "- Question -\n",
    "> Explain the mutable and immutable data types with proper explanation & examples.\n",
    "\n",
    "- Answer -\n",
    "> Mutable data types are those that can be modified or changed after they are created. \n",
    "\n",
    "Examples of mutable data types in Python include:\n",
    "\n",
    ">- Lists: You can modify the elements of a list by assigning new values, appending or removing items.\n",
    ">- Dictionaries: You can modify the key-value pairs in a dictionary by adding, updating, or deleting items.\n",
    ">- Sets: You can modify a set by adding or removing items.\n",
    "\n",
    "Any operation that appears to modify an immutable data type actually creates a new instance.\n",
    "\n",
    "Examples of immutable data types in Python include:\n",
    "\n",
    ">- Strings: Once a string is created, you cannot change its characters. Any operation that seems to modify a string actually creates a new string.\n",
    ">- Tuples: Tuples are similar to lists, but they are immutable. Once a tuple is created, you cannot modify its elements or size.\n",
    ">- Integers, floats, booleans: These primitive data types are also immutable. Once assigned, their values cannot be changed.\n",
    "\n",
    "    \n",
    "<b>------------------------------------------------------------------------------------------------------------------------------------------------------------------------------------------------------------------"
   ]
  },
  {
   "cell_type": "markdown",
   "id": "01f22740",
   "metadata": {},
   "source": [
    "<b>Number 9 - \n",
    "- Question -\n",
    "> Write a code to create the given structure using only for loop.\n",
    "\n",
    "\n",
    "- Answer -"
   ]
  },
  {
   "cell_type": "code",
   "execution_count": 13,
   "id": "0df43586",
   "metadata": {},
   "outputs": [
    {
     "name": "stdout",
     "output_type": "stream",
     "text": [
      "*\n",
      "**\n",
      "***\n",
      "****\n",
      "*****\n"
     ]
    }
   ],
   "source": [
    "for i in range(1, 6):\n",
    "    for j in range(i):\n",
    "        print(\"*\", end=\"\")\n",
    "    print()"
   ]
  },
  {
   "cell_type": "markdown",
   "id": "c28cd236",
   "metadata": {},
   "source": [
    "<b>Number 10 - \n",
    "- Question -\n",
    "> Write a code to create the given structure using while loop.\n",
    "> |||||||||\n",
    "> |||||||\n",
    "> |||||\n",
    "> |||\n",
    "> |\n",
    "\n",
    "- Answer -"
   ]
  },
  {
   "cell_type": "code",
   "execution_count": 15,
   "id": "218ce743",
   "metadata": {},
   "outputs": [
    {
     "name": "stdout",
     "output_type": "stream",
     "text": [
      "|||||\n",
      "||||\n",
      "|||\n",
      "||\n",
      "|\n"
     ]
    }
   ],
   "source": [
    "rows = 5\n",
    "while rows >= 1:\n",
    "    print(\"|\" * rows)\n",
    "    rows -= 1\n"
   ]
  },
  {
   "cell_type": "markdown",
   "id": "a3630373",
   "metadata": {},
   "source": [
    "    \n",
    "<b>------------------------------------------------------------------------------------------------------------------------------------------------------------------------------------------------------------------"
   ]
  },
  {
   "cell_type": "code",
   "execution_count": null,
   "id": "099aab98",
   "metadata": {},
   "outputs": [],
   "source": []
  }
 ],
 "metadata": {
  "kernelspec": {
   "display_name": "Python 3 (ipykernel)",
   "language": "python",
   "name": "python3"
  },
  "language_info": {
   "codemirror_mode": {
    "name": "ipython",
    "version": 3
   },
   "file_extension": ".py",
   "mimetype": "text/x-python",
   "name": "python",
   "nbconvert_exporter": "python",
   "pygments_lexer": "ipython3",
   "version": "3.9.7"
  }
 },
 "nbformat": 4,
 "nbformat_minor": 5
}
