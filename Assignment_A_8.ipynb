{
 "cells": [
  {
   "cell_type": "markdown",
   "id": "66e4bf54",
   "metadata": {},
   "source": [
    "# Devika Prashant Pagare\n",
    "#### Python : Assignment No. : 8"
   ]
  },
  {
   "cell_type": "markdown",
   "id": "7a101847",
   "metadata": {},
   "source": [
    "<b>Number 1 - \n",
    "- Question -\n",
    "> In Python, what is the difference between a built-in function and a user-defined function? Provide an example of each.\n",
    "\n",
    "- Answer -\n",
    "1. Built-in Functions:\n",
    "Built-in functions are pre-defined functions that are available as part of the Python programming language. \n",
    "\n",
    "    \n",
    "<b>------------------------------------------------------------------------------------------------------------------------------------------------------------------------------------------------------------------"
   ]
  },
  {
   "cell_type": "code",
   "execution_count": 1,
   "id": "8aca29eb",
   "metadata": {},
   "outputs": [
    {
     "name": "stdout",
     "output_type": "stream",
     "text": [
      "5\n"
     ]
    }
   ],
   "source": [
    "my_list = [1, 2, 3, 4, 5]\n",
    "length = len(my_list)\n",
    "print(length)  "
   ]
  },
  {
   "cell_type": "markdown",
   "id": "d3cf60c9",
   "metadata": {},
   "source": [
    "2. User-defined Functions: User-defined functions are functions created by the users themselves to perform specific tasks. "
   ]
  },
  {
   "cell_type": "code",
   "execution_count": 2,
   "id": "049ff309",
   "metadata": {},
   "outputs": [
    {
     "name": "stdout",
     "output_type": "stream",
     "text": [
      "Hello, John!\n"
     ]
    }
   ],
   "source": [
    "def greet(name):\n",
    "    print(\"Hello, \" + name + \"!\")\n",
    "\n",
    "greet(\"John\")  \n"
   ]
  },
  {
   "cell_type": "markdown",
   "id": "227a27c1",
   "metadata": {},
   "source": [
    "<b>------------------------------------------------------------------------------------------------------------------------------------------------------------------------------------------------------------------"
   ]
  },
  {
   "cell_type": "markdown",
   "id": "413d8471",
   "metadata": {},
   "source": [
    "<b>Number 2 - \n",
    "- Question -\n",
    "> How can you pass arguments to a function in Python? Explain the difference between positional arguments and keyword arguments.\n",
    "\n",
    "- Answer -\n",
    "> Positional Arguments:\n",
    "Positional arguments are passed to a function based on their position or order. The values are assigned to the function parameters in the order they are passed."
   ]
  },
  {
   "cell_type": "code",
   "execution_count": 7,
   "id": "d3521877",
   "metadata": {},
   "outputs": [
    {
     "name": "stdout",
     "output_type": "stream",
     "text": [
      "Hello, John! You are 25 years old.\n"
     ]
    }
   ],
   "source": [
    "def greet(name, age):\n",
    "    print(\"Hello, \" + name + \"! You are \" + str(age) + \" years old.\")\n",
    "\n",
    "greet(\"John\", 25)"
   ]
  },
  {
   "cell_type": "markdown",
   "id": "4da22cf8",
   "metadata": {},
   "source": [
    "> Keyword Arguments:\n",
    "Keyword arguments are passed to a function using the parameter names along with their corresponding values. This allows you to pass arguments to a function in any order, explicitly specifying the parameter names."
   ]
  },
  {
   "cell_type": "code",
   "execution_count": 8,
   "id": "3df4aa02",
   "metadata": {},
   "outputs": [
    {
     "name": "stdout",
     "output_type": "stream",
     "text": [
      "Hello, Alice! You are 30 years old.\n"
     ]
    }
   ],
   "source": [
    "def greet(name, age):\n",
    "    print(\"Hello, \" + name + \"! You are \" + str(age) + \" years old.\")\n",
    "\n",
    "greet(name=\"Alice\", age=30)"
   ]
  },
  {
   "cell_type": "markdown",
   "id": "8fd5f7e7",
   "metadata": {},
   "source": [
    "<b>------------------------------------------------------------------------------------------------------------------------------------------------------------------------------------------------------------------"
   ]
  },
  {
   "cell_type": "markdown",
   "id": "d0f8fd01",
   "metadata": {},
   "source": [
    "<b>Number 3 - \n",
    "- Question -\n",
    "> What is the purpose of the return statement in a function? Can a function have multiple return statements? Explain with an example.\n",
    "\n",
    "- Answer -\n",
    "> It serves two main purposes:\n",
    "\n",
    ">- Returning a Value:\n",
    "The return statement allows a function to provide a result or output to the caller. It terminates the function's execution and returns the specified value as the result of the function.\n",
    "\n",
    ">- Exiting the Function:\n",
    "The return statement also serves as an exit point for a function. When a return statement is encountered, the function execution immediately stops, and control is returned to the caller.\n"
   ]
  },
  {
   "cell_type": "code",
   "execution_count": 9,
   "id": "d8658748",
   "metadata": {},
   "outputs": [
    {
     "name": "stdout",
     "output_type": "stream",
     "text": [
      "B\n",
      "C\n"
     ]
    }
   ],
   "source": [
    "def get_grade(score):\n",
    "    if score >= 90:\n",
    "        return \"A\"\n",
    "    elif score >= 80:\n",
    "        return \"B\"\n",
    "    elif score >= 70:\n",
    "        return \"C\"\n",
    "    else:\n",
    "        return \"D\"\n",
    "\n",
    "grade1 = get_grade(85)\n",
    "grade2 = get_grade(72)\n",
    "\n",
    "print(grade1)  \n",
    "print(grade2)  "
   ]
  },
  {
   "cell_type": "markdown",
   "id": "4072c401",
   "metadata": {},
   "source": [
    "<b>------------------------------------------------------------------------------------------------------------------------------------------------------------------------------------------------------------------"
   ]
  },
  {
   "cell_type": "markdown",
   "id": "48cae11c",
   "metadata": {},
   "source": [
    "<b>Number 4 - \n",
    "- Question -\n",
    "> What are lambda functions in Python? How are they different from regular functions? Provide an example where a lambda function can be useful.\n",
    "\n",
    "- Answer -\n",
    "> The main differences between lambda functions and regular functions are:\n",
    "\n",
    ">- Syntax and Conciseness:\n",
    "Lambda functions are more concise and have a simplified syntax compared to regular functions. They are typically used for simple, one-line operations.\n",
    "\n",
    ">- Anonymous Nature:\n",
    "Lambda functions are anonymous, meaning they don't have a name associated with them. They are commonly used when a small, short-lived function is required, and there is no need to define a separate function using def.\n"
   ]
  },
  {
   "cell_type": "code",
   "execution_count": 11,
   "id": "0367bc98",
   "metadata": {},
   "outputs": [
    {
     "name": "stdout",
     "output_type": "stream",
     "text": [
      "25\n"
     ]
    }
   ],
   "source": [
    "square = lambda x: x ** 2\n",
    "\n",
    "result = square(5)\n",
    "print(result)  "
   ]
  },
  {
   "cell_type": "markdown",
   "id": "a7962e2f",
   "metadata": {},
   "source": [
    "<b>------------------------------------------------------------------------------------------------------------------------------------------------------------------------------------------------------------------"
   ]
  },
  {
   "cell_type": "markdown",
   "id": "c242eee3",
   "metadata": {},
   "source": [
    "<b>Number 5 - \n",
    "- Question -\n",
    "> How does the concept of \"scope\" apply to functions in Python? Explain the difference between local scope and global scope.\n",
    "\n",
    "- Answer -\n",
    "> The concept of \"scope\" in Python functions determines the visibility and accessibility of variables.\n",
    "\n",
    ">- Local scope refers to variables defined within a function and is accessible only inside that function.\n",
    ">- Global scope refers to variables defined outside any function and is accessible throughout the program.\n",
    "\n",
    "    \n",
    "<b>------------------------------------------------------------------------------------------------------------------------------------------------------------------------------------------------------------------"
   ]
  },
  {
   "cell_type": "markdown",
   "id": "541f2b61",
   "metadata": {},
   "source": [
    "<b>Number 6 - \n",
    "- Question -\n",
    "> How can you use the \"return\" statement in a Python function to return multiple values?\n",
    "\n",
    "- Answer -"
   ]
  },
  {
   "cell_type": "code",
   "execution_count": 13,
   "id": "7c0b03c3",
   "metadata": {},
   "outputs": [
    {
     "name": "stdout",
     "output_type": "stream",
     "text": [
      "(10, 20, 30)\n"
     ]
    }
   ],
   "source": [
    "def get_values():\n",
    "    x = 10\n",
    "    y = 20\n",
    "    z = 30\n",
    "    return x, y, z\n",
    "\n",
    "result = get_values()\n",
    "print(result) "
   ]
  },
  {
   "cell_type": "markdown",
   "id": "5197ede0",
   "metadata": {},
   "source": [
    "<b>------------------------------------------------------------------------------------------------------------------------------------------------------------------------------------------------------------------"
   ]
  },
  {
   "cell_type": "markdown",
   "id": "0046358b",
   "metadata": {},
   "source": [
    "<b>Number 7 - \n",
    "- Question -\n",
    "> What is the difference between the \"pass by value\" and \"pass by reference\" concepts when it comes to function arguments in Python?\n",
    "\n",
    "- Answer -\n",
    "1. Immutable Objects (Pass by Value-like behavior):\n",
    "Immutable objects, such as integers, floats, strings, and tuples, cannot be modified after they are created."
   ]
  },
  {
   "cell_type": "code",
   "execution_count": 14,
   "id": "5a9148fd",
   "metadata": {},
   "outputs": [
    {
     "name": "stdout",
     "output_type": "stream",
     "text": [
      "5\n"
     ]
    }
   ],
   "source": [
    "def update_value(num):\n",
    "    num += 10\n",
    "\n",
    "x = 5\n",
    "update_value(x)\n",
    "print(x)  "
   ]
  },
  {
   "cell_type": "markdown",
   "id": "d0f6cf13",
   "metadata": {},
   "source": [
    "2. Mutable Objects (Pass by Reference-like behavior):\n",
    "Mutable objects, such as lists, dictionaries, and sets, can be modified after they are created. When a mutable object is passed as an argument, changes made within the function affect the original object outside the function. It behaves similar to pass by reference."
   ]
  },
  {
   "cell_type": "code",
   "execution_count": 15,
   "id": "bca786e3",
   "metadata": {},
   "outputs": [
    {
     "name": "stdout",
     "output_type": "stream",
     "text": [
      "[1, 2, 3, 4]\n"
     ]
    }
   ],
   "source": [
    "def update_list(lst):\n",
    "    lst.append(4)\n",
    "\n",
    "my_list = [1, 2, 3]\n",
    "update_list(my_list)\n",
    "print(my_list)  "
   ]
  },
  {
   "cell_type": "markdown",
   "id": "562791a9",
   "metadata": {},
   "source": [
    "    \n",
    "<b>------------------------------------------------------------------------------------------------------------------------------------------------------------------------------------------------------------------"
   ]
  },
  {
   "cell_type": "markdown",
   "id": "a3ca9de1",
   "metadata": {},
   "source": [
    "<b>Number 8 - \n",
    "- Question -\n",
    "> Create a function that can intake integer or decimal value and do following operations:\n",
    ">- a. Logarithmic function (log x)\n",
    ">- b. Exponential function (exp(x))\n",
    ">- c. Power function with base 2 (2^X)\n",
    ">- d. Square root\n",
    "\n",
    "- Answer -"
   ]
  },
  {
   "cell_type": "code",
   "execution_count": 16,
   "id": "d671810a",
   "metadata": {},
   "outputs": [
    {
     "name": "stdout",
     "output_type": "stream",
     "text": [
      "(1.0986122886681098, 20.085536923187668, 8, 1.7320508075688772)\n",
      "(0.9162907318741551, 12.182493960703473, 5.656854249492381, 1.5811388300841898)\n"
     ]
    }
   ],
   "source": [
    "import math\n",
    "\n",
    "def math_operations(x):\n",
    "    logarithm = math.log(x)\n",
    "    exponential = math.exp(x)\n",
    "    power_two = 2 ** x\n",
    "    square_root = math.sqrt(x)\n",
    "    \n",
    "    return logarithm, exponential, power_two, square_root\n",
    "\n",
    "result_int = math_operations(3)\n",
    "print(result_int)  \n",
    "\n",
    "result_decimal = math_operations(2.5)\n",
    "print(result_decimal)  "
   ]
  },
  {
   "cell_type": "markdown",
   "id": "49be1a93",
   "metadata": {},
   "source": [
    "<b>------------------------------------------------------------------------------------------------------------------------------------------------------------------------------------------------------------------"
   ]
  },
  {
   "cell_type": "markdown",
   "id": "01f22740",
   "metadata": {},
   "source": [
    "<b>Number 9 - \n",
    "- Question -\n",
    "> Create a function that takes a full name as an argument and returns first name and last name.\n",
    "\n",
    "\n",
    "- Answer -"
   ]
  },
  {
   "cell_type": "code",
   "execution_count": 17,
   "id": "0df43586",
   "metadata": {},
   "outputs": [
    {
     "name": "stdout",
     "output_type": "stream",
     "text": [
      "('John', 'Doe')\n"
     ]
    }
   ],
   "source": [
    "def get_first_last_name(full_name):\n",
    "    names = full_name.split()\n",
    "    first_name = names[0]\n",
    "    last_name = names[-1]\n",
    "    return first_name, last_name\n",
    "\n",
    "# function\n",
    "result = get_first_last_name(\"John Doe\")\n",
    "print(result)"
   ]
  },
  {
   "cell_type": "markdown",
   "id": "a3630373",
   "metadata": {},
   "source": [
    "    \n",
    "<b>------------------------------------------------------------------------------------------------------------------------------------------------------------------------------------------------------------------"
   ]
  },
  {
   "cell_type": "code",
   "execution_count": null,
   "id": "099aab98",
   "metadata": {},
   "outputs": [],
   "source": []
  }
 ],
 "metadata": {
  "kernelspec": {
   "display_name": "Python 3 (ipykernel)",
   "language": "python",
   "name": "python3"
  },
  "language_info": {
   "codemirror_mode": {
    "name": "ipython",
    "version": 3
   },
   "file_extension": ".py",
   "mimetype": "text/x-python",
   "name": "python",
   "nbconvert_exporter": "python",
   "pygments_lexer": "ipython3",
   "version": "3.9.7"
  }
 },
 "nbformat": 4,
 "nbformat_minor": 5
}
