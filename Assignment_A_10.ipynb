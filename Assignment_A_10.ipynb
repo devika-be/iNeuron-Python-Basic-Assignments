{
 "cells": [
  {
   "cell_type": "markdown",
   "id": "66e4bf54",
   "metadata": {},
   "source": [
    "# Devika Prashant Pagare\n",
    "#### Python : Assignment No. : 10"
   ]
  },
  {
   "cell_type": "markdown",
   "id": "7a101847",
   "metadata": {},
   "source": [
    "<b>Number 1 - \n",
    "- Question -\n",
    "> What is the role of try and exception block?\n",
    "\n",
    "- Answer -\n",
    "> The try and except block in Python is used to handle errors. Errors are unexpected events that can occur during the execution of a program. They can cause the program to crash or behave unexpectedly.\n",
    "The try block is used to enclose the code that you want to test for errors. If an error occurs in the try block, the except block will be executed. The except block is used to handle the error. You can use the except block to print a message, log the error, or take some other action to handle the error.\n"
   ]
  },
  {
   "cell_type": "code",
   "execution_count": 4,
   "id": "eae2ade8",
   "metadata": {},
   "outputs": [
    {
     "name": "stdout",
     "output_type": "stream",
     "text": [
      "Enter a number: 76\n"
     ]
    }
   ],
   "source": [
    "try:\n",
    "    number = int(input(\"Enter a number: \"))\n",
    "except ValueError:\n",
    "    print(\"Invalid input. Please enter a valid number.\")\n"
   ]
  },
  {
   "cell_type": "markdown",
   "id": "81530407",
   "metadata": {},
   "source": [
    "<b>------------------------------------------------------------------------------------------------------------------------------------------------------------------------------------------------------------------"
   ]
  },
  {
   "cell_type": "markdown",
   "id": "413d8471",
   "metadata": {},
   "source": [
    "<b>Number 2 - \n",
    "- Question -\n",
    "> What is the syntax for a basic try-except block?\n",
    "\n",
    "- Answer -"
   ]
  },
  {
   "cell_type": "code",
   "execution_count": 5,
   "id": "2f5a40b8",
   "metadata": {},
   "outputs": [
    {
     "name": "stdout",
     "output_type": "stream",
     "text": [
      "Enter a number: 32\n"
     ]
    }
   ],
   "source": [
    "try:\n",
    "    number = int(input(\"Enter a number: \"))\n",
    "except ValueError:\n",
    "    print(\"Invalid input. Please enter a valid number.\")"
   ]
  },
  {
   "cell_type": "markdown",
   "id": "d0f8fd01",
   "metadata": {},
   "source": [
    "<b>Number 3 - \n",
    "- Question -\n",
    "> What happens if an exception occurs inside a try block and there is no matching except block?\n",
    "\n",
    "- Answer -"
   ]
  },
  {
   "cell_type": "code",
   "execution_count": null,
   "id": "7e725915",
   "metadata": {},
   "outputs": [],
   "source": [
    "def factorial(n):\n",
    "    try:\n",
    "        return 1 if n == 0 else n * factorial(n - 1)\n",
    "    except Exception:\n",
    "        print(\"An error occurred.\")\n",
    "\n",
    "try:\n",
    "    print(factorial(-1))\n",
    "except Exception:\n",
    "    print(\"An error occurred in the outer try block.\")"
   ]
  },
  {
   "cell_type": "markdown",
   "id": "e74d8cd1",
   "metadata": {},
   "source": [
    "    \n",
    "<b>------------------------------------------------------------------------------------------------------------------------------------------------------------------------------------------------------------------"
   ]
  },
  {
   "cell_type": "markdown",
   "id": "48cae11c",
   "metadata": {},
   "source": [
    "<b>Number 4 - \n",
    "- Question -\n",
    "> What is the difference between using a bare except block and specifying a specific exception type?\n",
    "\n",
    "- Answer -\n",
    "> The main difference between using a bare except block and specifying a specific exception type is that a bare except block will catch all exceptions, while a specific exception type will only catch exceptions of that specific type.\n"
   ]
  },
  {
   "cell_type": "code",
   "execution_count": 1,
   "id": "123b6f19",
   "metadata": {},
   "outputs": [
    {
     "name": "stdout",
     "output_type": "stream",
     "text": [
      "Enter a number: 89\n"
     ]
    }
   ],
   "source": [
    "try:\n",
    "    number = int(input(\"Enter a number: \"))\n",
    "except:\n",
    "    print(\"An error occurred.\")"
   ]
  },
  {
   "cell_type": "code",
   "execution_count": 2,
   "id": "5cc2a8dd",
   "metadata": {},
   "outputs": [
    {
     "name": "stdout",
     "output_type": "stream",
     "text": [
      "Enter a number: 00\n"
     ]
    }
   ],
   "source": [
    "try:\n",
    "    number = int(input(\"Enter a number: \"))\n",
    "except ValueError:\n",
    "    print(\"Invalid input. Please enter a valid number.\")\n"
   ]
  },
  {
   "cell_type": "markdown",
   "id": "e555fea9",
   "metadata": {},
   "source": [
    "<b>------------------------------------------------------------------------------------------------------------------------------------------------------------------------------------------------------------------"
   ]
  },
  {
   "cell_type": "markdown",
   "id": "c242eee3",
   "metadata": {},
   "source": [
    "<b>Number 5 - \n",
    "- Question -\n",
    "> Can you have nested try-except blocks in Python? If yes, then give an example.\n",
    "\n",
    "- Answer -"
   ]
  },
  {
   "cell_type": "code",
   "execution_count": 3,
   "id": "5e678e32",
   "metadata": {},
   "outputs": [
    {
     "name": "stdout",
     "output_type": "stream",
     "text": [
      "Enter a number: 54\n"
     ]
    }
   ],
   "source": [
    "try:\n",
    "    try:\n",
    "        number = int(input(\"Enter a number: \"))\n",
    "    except ValueError:\n",
    "        print(\"Invalid input. Please enter a valid number.\")\n",
    "    except Exception as e:\n",
    "        print(f\"An unexpected error occurred: {e}\")\n",
    "except Exception as e:\n",
    "    print(f\"An unexpected error occurred: {e}\")\n"
   ]
  },
  {
   "cell_type": "markdown",
   "id": "0c1ab19d",
   "metadata": {},
   "source": [
    "<b>------------------------------------------------------------------------------------------------------------------------------------------------------------------------------------------------------------------"
   ]
  },
  {
   "cell_type": "markdown",
   "id": "541f2b61",
   "metadata": {},
   "source": [
    "<b>Number 6 - \n",
    "- Question -\n",
    "> Can we use multiple exception blocks, if yes then give an example.\n",
    "\n",
    "- Answer -\n",
    "> Yes, we can use multiple exception blocks in Python. Multiple exception blocks are used to handle different types of exceptions that might occur in the same code."
   ]
  },
  {
   "cell_type": "code",
   "execution_count": 5,
   "id": "974cf2de",
   "metadata": {},
   "outputs": [
    {
     "name": "stdout",
     "output_type": "stream",
     "text": [
      "Enter a number: 90\n"
     ]
    }
   ],
   "source": [
    "try:\n",
    "    number = int(input(\"Enter a number: \"))\n",
    "except ValueError:\n",
    "    print(\"Invalid input. Please enter a valid number.\")\n",
    "except ZeroDivisionError:\n",
    "    print(\"Cannot divide by zero.\")\n",
    "except Exception as e:\n",
    "    print(f\"An unexpected error occurred: {e}\")"
   ]
  },
  {
   "cell_type": "markdown",
   "id": "fda78679",
   "metadata": {},
   "source": [
    "<b>------------------------------------------------------------------------------------------------------------------------------------------------------------------------------------------------------------------"
   ]
  },
  {
   "cell_type": "markdown",
   "id": "0046358b",
   "metadata": {},
   "source": [
    "<b>Number 7 - \n",
    "- Question -\n",
    "> Write the reason due to which following errors are raised:\n",
    ">- a. EOFError\n",
    ">- b. FloatingPointError\n",
    ">- c. IndexError\n",
    ">- d. MemoryError\n",
    ">- e. OverflowError\n",
    ">- f. TabError\n",
    ">- g. ValueError\n",
    "\n",
    "- Answer -\n",
    "    \n",
    ">- EOFError is raised when the end of file is reached unexpectedly. This can happen if the user presses Ctrl+D while reading from a file, or if the file is not found.\n",
    ">- FloatingPointError is raised when a floating point operation fails. This can happen if the operation is mathematically impossible, such as dividing by zero, or if the numbers are too large or small for the computer to represent.\n",
    ">- IndexError is raised when an index is out of range. This can happen if you try to access an element of a list or a string that does not exist.\n",
    ">- MemoryError is raised when the computer runs out of memory. This can happen if you are allocating too much memory, or if you are creating too many objects.\n",
    ">- OverflowError is raised when a numeric operation results in a value that is too large or too small to be represented. This can happen if you try to divide a number by a very small number, or if you try to raise a number to a very large power.\n",
    ">- TabError is raised when a tab character is found in a string where it is not expected. This can happen if you are using the str.split() method to split a string on spaces, but there are tabs in the string.\n",
    ">- ValueError is raised when a value is not of the correct type, or when a value is out of range. This can happen if you try to convert a string to an integer, but the string does not contain a valid integer."
   ]
  },
  {
   "cell_type": "markdown",
   "id": "562791a9",
   "metadata": {},
   "source": [
    "    \n",
    "<b>------------------------------------------------------------------------------------------------------------------------------------------------------------------------------------------------------------------"
   ]
  },
  {
   "cell_type": "markdown",
   "id": "a3ca9de1",
   "metadata": {},
   "source": [
    "<b>Number 8 - \n",
    "- Question -\n",
    "> Write code for the following given scenario and add try-exception block to it.\n",
    ">- a. Program to divide two numbers\n",
    ">- b. Program to convert a string to an integer\n",
    ">- c. Program to access an element in a list\n",
    ">- d. Program to handle a specific exception\n",
    ">- e. Program to handle any exception\n",
    "\n",
    "- Answer -\n"
   ]
  },
  {
   "cell_type": "code",
   "execution_count": 11,
   "id": "a072c9b0",
   "metadata": {},
   "outputs": [
    {
     "name": "stdout",
     "output_type": "stream",
     "text": [
      "Division by zero error.\n",
      "None\n"
     ]
    }
   ],
   "source": [
    "# a. Program to divide two numbers\n",
    "\n",
    "def divide_numbers(x, y):\n",
    "    try:\n",
    "        return x / y\n",
    "    except ZeroDivisionError:\n",
    "        print(\"Division by zero error.\")\n",
    "\n",
    "\n",
    "result = divide_numbers(10, 0)\n",
    "print(result)"
   ]
  },
  {
   "cell_type": "code",
   "execution_count": 12,
   "id": "35cfeb6b",
   "metadata": {},
   "outputs": [
    {
     "name": "stdout",
     "output_type": "stream",
     "text": [
      "Invalid input. Please enter a valid integer.\n",
      "None\n"
     ]
    }
   ],
   "source": [
    "# b. Program to convert a string to an integer\n",
    "\n",
    "def convert_string_to_integer(string):\n",
    "    try:\n",
    "        return int(string)\n",
    "    except ValueError:\n",
    "        print(\"Invalid input. Please enter a valid integer.\")\n",
    "\n",
    "\n",
    "number = convert_string_to_integer(\"abc\")\n",
    "print(number)"
   ]
  },
  {
   "cell_type": "code",
   "execution_count": 13,
   "id": "a35f3112",
   "metadata": {},
   "outputs": [
    {
     "name": "stdout",
     "output_type": "stream",
     "text": [
      "Index out of range error.\n",
      "None\n"
     ]
    }
   ],
   "source": [
    "# c. Program to access an element in a list\n",
    "\n",
    "def access_element_in_list(list, index):\n",
    "    try:\n",
    "        return list[index]\n",
    "    except IndexError:\n",
    "        print(\"Index out of range error.\")\n",
    "\n",
    "\n",
    "list = [1, 2, 3]\n",
    "element = access_element_in_list(list, 4)\n",
    "print(element)"
   ]
  },
  {
   "cell_type": "code",
   "execution_count": 14,
   "id": "975751cb",
   "metadata": {},
   "outputs": [
    {
     "name": "stdout",
     "output_type": "stream",
     "text": [
      "Division by zero error.\n",
      "None\n"
     ]
    }
   ],
   "source": [
    "# d. Program to handle a specific exception\n",
    "\n",
    "def handle_specific_exception(x):\n",
    "    try:\n",
    "        if x == 0:\n",
    "            raise ValueError(\"Division by zero error.\")\n",
    "        return x / 2\n",
    "    except ValueError as e:\n",
    "        print(e)\n",
    "\n",
    "\n",
    "result = handle_specific_exception(0)\n",
    "print(result)"
   ]
  },
  {
   "cell_type": "code",
   "execution_count": 15,
   "id": "6f61b368",
   "metadata": {},
   "outputs": [
    {
     "name": "stdout",
     "output_type": "stream",
     "text": [
      "0.0\n"
     ]
    }
   ],
   "source": [
    "# e. Program to handle any exception\n",
    "\n",
    "def handle_any_exception(x):\n",
    "    try:\n",
    "        return x / 2\n",
    "    except Exception as e:\n",
    "        print(e)\n",
    "\n",
    "\n",
    "result = handle_any_exception(0)\n",
    "print(result)"
   ]
  },
  {
   "cell_type": "markdown",
   "id": "92efb403",
   "metadata": {},
   "source": [
    "<b>------------------------------------------------------------------------------------------------------------------------------------------------------------------------------------------------------------------"
   ]
  }
 ],
 "metadata": {
  "kernelspec": {
   "display_name": "Python 3 (ipykernel)",
   "language": "python",
   "name": "python3"
  },
  "language_info": {
   "codemirror_mode": {
    "name": "ipython",
    "version": 3
   },
   "file_extension": ".py",
   "mimetype": "text/x-python",
   "name": "python",
   "nbconvert_exporter": "python",
   "pygments_lexer": "ipython3",
   "version": "3.9.7"
  }
 },
 "nbformat": 4,
 "nbformat_minor": 5
}
