{
 "cells": [
  {
   "cell_type": "markdown",
   "id": "66e4bf54",
   "metadata": {},
   "source": [
    "# Devika Prashant Pagare\n",
    "### OOPs : Assignment_01_July_OOPs"
   ]
  },
  {
   "cell_type": "markdown",
   "id": "7a101847",
   "metadata": {},
   "source": [
    "<b>Number 1 - \n",
    "- Question -\n",
    "> What is the primary goal of Object-Oriented Programming (OOP)?\n",
    "    \n",
    "- Answer -\n",
    "> \n",
    "The primary goal of Object-Oriented Programming (OOP) is to model real-world objects in software. This means that objects in a program should be similar to objects in the real world, and they should be able to interact with each other in a similar way.\n",
    "    \n",
    "> For example, The benefits of OOP:\n",
    "    \n",
    ">- Reusability: OOP allows you to reuse code by creating classes that can be used to create multiple objects.\n",
    "    \n",
    ">- Maintainability: OOP makes code easier to maintain because the data and behavior of an object are encapsulated in the class.\n",
    "    \n",
    ">- Extensibility: OOP makes code easier to extend because you can create new classes that inherit from existing classes.\n",
    "    \n",
    ">- Modularity: OOP makes code easier to understand and test by breaking it down into smaller, self-contained modules."
   ]
  },
  {
   "cell_type": "markdown",
   "id": "95a82ec9",
   "metadata": {},
   "source": [
    "<b>------------------------------------------------------------------------------------------------------------------------------------------------------------------------------------------------------------------"
   ]
  },
  {
   "cell_type": "markdown",
   "id": "413d8471",
   "metadata": {},
   "source": [
    "<b>Number 2 - \n",
    "- Question -\n",
    "> What is an object in Python?\n",
    "\n",
    "- Answer -\n",
    "> An object in Python is a self-contained entity that has data and behavior. It is a basic unit of abstraction in OOP. Objects are created from classes, which are blueprints for creating objects.\n",
    "\n",
    "> For example, a string object is an object that represents a sequence of characters. It has data (the characters in the string) and behavior (methods like len() and upper()).\n",
    "    \n",
    "> Here are some other examples of objects in Python:\n",
    "\n",
    ">- A list object is an object that represents a sequence of elements.\n",
    "    \n",
    ">- A dictionary object is an object that represents a mapping from keys to values.\n",
    "    \n",
    ">- A function object is an object that represents a callable function."
   ]
  },
  {
   "cell_type": "markdown",
   "id": "f95f7ea9",
   "metadata": {},
   "source": [
    "<b>------------------------------------------------------------------------------------------------------------------------------------------------------------------------------------------------------------------"
   ]
  },
  {
   "cell_type": "markdown",
   "id": "d0f8fd01",
   "metadata": {},
   "source": [
    "<b>Number 3 - \n",
    "- Question -\n",
    "> What is a class in Python?\n",
    "\n",
    "- Answer -\n",
    "    \n",
    "> In Python, a class is a blueprint for creating objects. It defines the data and behavior of an object.\n",
    "    \n",
    "> For example,"
   ]
  },
  {
   "cell_type": "code",
   "execution_count": 1,
   "id": "12794c35",
   "metadata": {},
   "outputs": [],
   "source": [
    "class Dog:\n",
    "\n",
    "    def __init__(self, name, breed):\n",
    "        self.name = name\n",
    "        self.breed = breed\n",
    "\n",
    "    def bark(self):\n",
    "        print('Woof!')\n",
    "\n"
   ]
  },
  {
   "cell_type": "markdown",
   "id": "29f970c3",
   "metadata": {},
   "source": [
    "    \n",
    "<b>------------------------------------------------------------------------------------------------------------------------------------------------------------------------------------------------------------------"
   ]
  },
  {
   "cell_type": "markdown",
   "id": "48cae11c",
   "metadata": {},
   "source": [
    "<b>Number 4 - \n",
    "- Question -\n",
    "> What are attributes and methods in a class?\n",
    "    \n",
    "- Answer -\n",
    "> attributes and methods are two of the most important concepts in object-oriented programming (OOP).\n",
    "\n",
    ">- Attributes are variables that are associated with an object. They store the data of an object.\n",
    ">- Methods are functions that are associated with an object. They define the behavior of an object.\n"
   ]
  },
  {
   "cell_type": "code",
   "execution_count": 4,
   "id": "48d4be8d",
   "metadata": {},
   "outputs": [],
   "source": [
    "# For example,\n",
    "\n",
    "class Circle:\n",
    "\n",
    "    def __init__(self, radius):\n",
    "        self.radius = radius\n",
    "\n",
    "    def get_area(self):\n",
    "        return 3.1415 * self.radius ** 2\n",
    "\n",
    "    def get_circumference(self):\n",
    "        return 2 * 3.1415 * self.radius\n",
    "\n"
   ]
  },
  {
   "cell_type": "markdown",
   "id": "4df18977",
   "metadata": {},
   "source": [
    "    \n",
    "<b>------------------------------------------------------------------------------------------------------------------------------------------------------------------------------------------------------------------"
   ]
  },
  {
   "cell_type": "markdown",
   "id": "c242eee3",
   "metadata": {},
   "source": [
    "<b>Number 5 - \n",
    "- Question -\n",
    "> What is the difference between class variables and instance variables in Python?\n",
    "\n",
    "- Answer -\n",
    "    \n",
    "> In python, class variables and instance variables are two different types of variables that can be used in classes.\n",
    "\n",
    ">- Class variables are shared by all instances of a class. This means that if you change the value of a class variable, it will change for all instances of the class.\n",
    "    \n",
    ">- Instance variables are unique to each instance of a class. This means that if you change the value of an instance variable, it will only change for that specific instance.\n"
   ]
  },
  {
   "cell_type": "markdown",
   "id": "bd2a7b45",
   "metadata": {},
   "source": [
    "<b>------------------------------------------------------------------------------------------------------------------------------------------------------------------------------------------------------------------"
   ]
  },
  {
   "cell_type": "markdown",
   "id": "541f2b61",
   "metadata": {},
   "source": [
    "<b>Number 6 - \n",
    "- Question -\n",
    "> What is the purpose of the self parameter in Python class methods?\n",
    "    \n",
    "- Answer -\n",
    "    \n",
    "> The self parameter is a reference to the current instance of the class. It is used to access the attributes and methods of the current instance.\n",
    "\n",
    "> In other words, the self parameter is a way for the class method to know which instance of the class it is currently working with."
   ]
  },
  {
   "cell_type": "code",
   "execution_count": 5,
   "id": "459cb3ab",
   "metadata": {},
   "outputs": [],
   "source": [
    "class Dog:\n",
    "\n",
    "    def __init__(self, name, breed):\n",
    "        self.name = name\n",
    "        self.breed = breed\n",
    "\n",
    "    def bark(self):\n",
    "        print('Woof! My name is {}'.format(self.name))"
   ]
  },
  {
   "cell_type": "code",
   "execution_count": 6,
   "id": "ca404fd1",
   "metadata": {},
   "outputs": [],
   "source": [
    "# To create a Dog object\n",
    "\n",
    "my_dog = Dog('Spot', 'Golden Retriever')\n"
   ]
  },
  {
   "cell_type": "code",
   "execution_count": 8,
   "id": "fa79866b",
   "metadata": {},
   "outputs": [
    {
     "name": "stdout",
     "output_type": "stream",
     "text": [
      "Woof! My name is Spot\n"
     ]
    }
   ],
   "source": [
    "# To call the bark() method on the my_dog object\n",
    "\n",
    "my_dog.bark()"
   ]
  },
  {
   "cell_type": "markdown",
   "id": "18ba735b",
   "metadata": {},
   "source": [
    "<b>------------------------------------------------------------------------------------------------------------------------------------------------------------------------------------------------------------------"
   ]
  },
  {
   "cell_type": "markdown",
   "id": "0046358b",
   "metadata": {},
   "source": [
    "<b>Number 7 - \n",
    "- Question -\n",
    "    \n",
    "> For a library management system, you have to design the \"Book\" class with OOP principles in mind. The “Book” class will have following attributes:\n",
    "\n",
    ">- a. title: Represents the title of the book.\n",
    ">- b. author: Represents the author(s) of the book.\n",
    ">- c. isbn: Represents the ISBN (International Standard Book Number) of the book.\n",
    ">- d. publication_year: Represents the year of publication of the book.\n",
    ">- e. available_copies: Represents the number of copies available for checkout.\n",
    "    \n",
    "> The class will also include the following methods:\n",
    ">- a. check_out(self): Decrements the available copies by one if there are copies available for checkout.\n",
    ">- b. return_book(self): Increments the available copies by one when a book is\n",
    "returned.\n",
    ">- c. display_book_info(self): Displays the information about the book, including its attributes and the number of available copies.\n",
    "\n",
    "    \n",
    "- Answer - This class defines the following attributes::\n",
    "    \n",
    ">- title: Represents the title of the book.\n",
    ">- author: Represents the author(s) of the book.\n",
    ">- isbn: Represents the ISBN (International Standard Book Number) of the book.\n",
    ">- publication_year: Represents the year of publication of the book.\n",
    ">- available_copies: Represents the number of copies available for checkout."
   ]
  },
  {
   "cell_type": "code",
   "execution_count": 31,
   "id": "5a9148fd",
   "metadata": {},
   "outputs": [],
   "source": [
    "class Book:\n",
    "\n",
    "    def __init__(self, title, author, isbn, publication_year, available_copies):\n",
    "        self.title = title\n",
    "        self.author = author\n",
    "        self.isbn = isbn\n",
    "        self.publication_year = publication_year\n",
    "        self.available_copies = available_copies\n",
    "\n",
    "    def check_out(self):\n",
    "        if self.available_copies > 0:\n",
    "            self.available_copies -= 1\n",
    "\n",
    "    def return_book(self):\n",
    "        self.available_copies += 1\n",
    "\n",
    "    def display_book_info(self):\n",
    "        print('Title:', self.title)\n",
    "        print('Author:', self.author)\n",
    "        print('ISBN:', self.isbn)\n",
    "        print('Publication year:', self.publication_year)\n",
    "        print('Available copies:', self.available_copies)\n",
    "\n"
   ]
  },
  {
   "cell_type": "code",
   "execution_count": 32,
   "id": "d7964b0c",
   "metadata": {},
   "outputs": [],
   "source": [
    "my_book = Book('The Hitchhikers Guide to the Galaxy', 'Douglas Adams', '0345391838', 1979, 10)"
   ]
  },
  {
   "cell_type": "code",
   "execution_count": 33,
   "id": "66381343",
   "metadata": {},
   "outputs": [],
   "source": [
    "my_book.check_out()"
   ]
  },
  {
   "cell_type": "code",
   "execution_count": 34,
   "id": "22572fa2",
   "metadata": {},
   "outputs": [],
   "source": [
    "my_book.return_book()"
   ]
  },
  {
   "cell_type": "code",
   "execution_count": 35,
   "id": "1ba8303c",
   "metadata": {},
   "outputs": [
    {
     "name": "stdout",
     "output_type": "stream",
     "text": [
      "Title: The Hitchhikers Guide to the Galaxy\n",
      "Author: Douglas Adams\n",
      "ISBN: 0345391838\n",
      "Publication year: 1979\n",
      "Available copies: 10\n"
     ]
    }
   ],
   "source": [
    "my_book.display_book_info()"
   ]
  },
  {
   "cell_type": "markdown",
   "id": "562791a9",
   "metadata": {},
   "source": [
    "    \n",
    "<b>------------------------------------------------------------------------------------------------------------------------------------------------------------------------------------------------------------------"
   ]
  },
  {
   "cell_type": "markdown",
   "id": "a3ca9de1",
   "metadata": {},
   "source": [
    "<b>Number 8 - \n",
    "- Question -\n",
    "    \n",
    "> For a ticket booking system, you have to design the \"Ticket\" class with OOP principles in mind. The “Ticket” class should have the following attributes:\n",
    ">- a. ticket_id: Represents the unique identifier for the ticket.\n",
    ">- b. event_name: Represents the name of the event.\n",
    ">- c. event_date: Represents the date of the event.\n",
    ">- d. venue: Represents the venue of the event.\n",
    ">- e. seat_number: Represents the seat number associated with the ticket.\n",
    ">- f. price: Represents the price of the ticket.\n",
    ">- g. is_reserved: Represents the reservation status of the ticket.\n",
    "\n",
    "> The class also includes the following methods:\n",
    ">- a. reserve_ticket(self): Marks the ticket as reserved if it is not already reserved.\n",
    ">- b. cancel_reservation(self): Cancels the reservation of the ticket if it is already reserved.\n",
    ">- c. display_ticket_info(self): Displays the information about the ticket, including its attributes and reservation status.\n",
    "\n",
    "- Answer -"
   ]
  },
  {
   "cell_type": "code",
   "execution_count": 36,
   "id": "1069c7d2",
   "metadata": {},
   "outputs": [],
   "source": [
    "class Ticket:\n",
    "\n",
    "    def __init__(self, ticket_id, event_name, event_date, venue, seat_number, price, is_reserved):\n",
    "        self.ticket_id = ticket_id\n",
    "        self.event_name = event_name\n",
    "        self.event_date = event_date\n",
    "        self.venue = venue\n",
    "        self.seat_number = seat_number\n",
    "        self.price = price\n",
    "        self.is_reserved = is_reserved\n",
    "\n",
    "    def reserve_ticket(self):\n",
    "        if not self.is_reserved:\n",
    "            self.is_reserved = True\n",
    "\n",
    "    def cancel_reservation(self):\n",
    "        if self.is_reserved:\n",
    "            self.is_reserved = False\n",
    "\n",
    "    def display_ticket_info(self):\n",
    "        print('Ticket ID:', self.ticket_id)\n",
    "        print('Event name:', self.event_name)\n",
    "        print('Event date:', self.event_date)\n",
    "        print('Venue:', self.venue)\n",
    "        print('Seat number:', self.seat_number)\n",
    "        print('Price:', self.price)\n",
    "        print('Reservation status:', self.is_reserved)"
   ]
  },
  {
   "cell_type": "code",
   "execution_count": 37,
   "id": "83e46714",
   "metadata": {},
   "outputs": [],
   "source": [
    "my_ticket = Ticket(12345, 'The Concert', '2023-03-08', 'Madison Square Garden', 101, 100, False)"
   ]
  },
  {
   "cell_type": "code",
   "execution_count": 38,
   "id": "9fe96aa3",
   "metadata": {},
   "outputs": [],
   "source": [
    "my_ticket.reserve_ticket()"
   ]
  },
  {
   "cell_type": "code",
   "execution_count": 39,
   "id": "ad3d6c83",
   "metadata": {},
   "outputs": [],
   "source": [
    "my_ticket.cancel_reservation()"
   ]
  },
  {
   "cell_type": "code",
   "execution_count": 40,
   "id": "d5a0895c",
   "metadata": {},
   "outputs": [
    {
     "name": "stdout",
     "output_type": "stream",
     "text": [
      "Ticket ID: 12345\n",
      "Event name: The Concert\n",
      "Event date: 2023-03-08\n",
      "Venue: Madison Square Garden\n",
      "Seat number: 101\n",
      "Price: 100\n",
      "Reservation status: False\n"
     ]
    }
   ],
   "source": [
    "my_ticket.display_ticket_info()"
   ]
  },
  {
   "cell_type": "markdown",
   "id": "888c0d22",
   "metadata": {},
   "source": [
    "<b>------------------------------------------------------------------------------------------------------------------------------------------------------------------------------------------------------------------"
   ]
  },
  {
   "cell_type": "markdown",
   "id": "01f22740",
   "metadata": {},
   "source": [
    "<b>Number 9 - \n",
    "- Question -\n",
    "\n",
    "> You are creating a shopping cart for an e-commerce website. Using OOP to model the \"ShoppingCart\" functionality the class should contain following attributes andmethods:\n",
    "    \n",
    ">- a. items: Represents the list of items in the shopping cart.\n",
    "The class also includes the following methods:\n",
    ">- b. add_item(self, item): Adds an item to the shopping cart by appending it to the list of items.\n",
    ">- c. remove_item(self, item): Removes an item from the shopping cart if it exists in the list.   \n",
    ">- d. view_cart(self): Displays the items currently present in the shopping cart.   \n",
    ">- e. clear_cart(self): Clears all items from the shopping cart by reassigning an empty list to the items attribute.\n",
    "\n",
    "\n",
    "- Answer -\n",
    "    "
   ]
  },
  {
   "cell_type": "code",
   "execution_count": 41,
   "id": "55ca717b",
   "metadata": {},
   "outputs": [],
   "source": [
    "class ShoppingCart:\n",
    "\n",
    "    def __init__(self):\n",
    "        self.items = []\n",
    "\n",
    "    def add_item(self, item):\n",
    "        self.items.append(item)\n",
    "\n",
    "    def remove_item(self, item):\n",
    "        if item in self.items:\n",
    "            self.items.remove(item)\n",
    "\n",
    "    def view_cart(self):\n",
    "        for item in self.items:\n",
    "            print(item)\n",
    "\n",
    "    def clear_cart(self):\n",
    "        self.items = []"
   ]
  },
  {
   "cell_type": "code",
   "execution_count": 42,
   "id": "d61e5618",
   "metadata": {},
   "outputs": [],
   "source": [
    "my_cart = ShoppingCart()"
   ]
  },
  {
   "cell_type": "code",
   "execution_count": 43,
   "id": "af3f1287",
   "metadata": {},
   "outputs": [],
   "source": [
    "my_cart.add_item('T-shirt')"
   ]
  },
  {
   "cell_type": "code",
   "execution_count": 44,
   "id": "ca69a346",
   "metadata": {},
   "outputs": [],
   "source": [
    "my_cart.remove_item('T-shirt')"
   ]
  },
  {
   "cell_type": "code",
   "execution_count": 45,
   "id": "ec9e2b06",
   "metadata": {},
   "outputs": [],
   "source": [
    "my_cart.view_cart()"
   ]
  },
  {
   "cell_type": "code",
   "execution_count": 46,
   "id": "7227bd00",
   "metadata": {},
   "outputs": [],
   "source": [
    "my_cart.clear_cart()"
   ]
  },
  {
   "cell_type": "markdown",
   "id": "7301d92a",
   "metadata": {},
   "source": [
    "<b>------------------------------------------------------------------------------------------------------------------------------------------------------------------------------------------------------------------"
   ]
  },
  {
   "cell_type": "markdown",
   "id": "c28cd236",
   "metadata": {},
   "source": [
    "<b>Number 10 - \n",
    "- Question -\n",
    "    \n",
    "> Imagine a school management system. You have to design the \"Student\" class using OOP concepts.The “Student” class has the following attributes:\n",
    ">- a. name: Represents the name of the student.\n",
    ">- b. age: Represents the age of the student.\n",
    ">- c. grade: Represents the grade or class of the student.\n",
    ">- d. student_id: Represents the unique identifier for the student.\n",
    ">- e. attendance: Represents the attendance record of the student.\n",
    "\n",
    "> The class should also include the following methods:\n",
    ">- a. update_attendance(self, date, status): Updates the attendance record of the student for a given date with the provided status (e.g., present or absent).\n",
    ">- b. get_attendance(self): Returns the attendance record of the student.\n",
    ">- c. get_average_attendance(self): Calculates and returns the average\n",
    "attendance percentage of the student based on their attendance record.\n",
    "\n",
    "- Answer -\n",
    "   "
   ]
  },
  {
   "cell_type": "code",
   "execution_count": 52,
   "id": "218ce743",
   "metadata": {},
   "outputs": [],
   "source": [
    "class Student:\n",
    "\n",
    "    def __init__(self, name, age, grade, student_id, attendance):\n",
    "        self.name = name\n",
    "        self.age = age\n",
    "        self.grade = grade\n",
    "        self.student_id = student_id\n",
    "        self.attendance = attendance\n",
    "\n",
    "    def update_attendance(self, date, status):\n",
    "        self.attendance[date] = status\n",
    "\n",
    "    def get_attendance(self):\n",
    "        return self.attendance\n",
    "\n",
    "    def get_average_attendance(self):\n",
    "        total_attendance = 0\n",
    "        number_of_days = len(self.attendance)\n",
    "        for date, status in self.attendance.items():\n",
    "            if status == 'present':\n",
    "                total_attendance += 1\n",
    "        return (total_attendance / number_of_days) * 100\n",
    "\n"
   ]
  },
  {
   "cell_type": "code",
   "execution_count": 53,
   "id": "c844dd05",
   "metadata": {},
   "outputs": [],
   "source": [
    "my_student = Student('Raj Pagare', 12, '6th grade', 12345, {'2023-03-08': 'present', '2023-03-09': 'absent'})"
   ]
  },
  {
   "cell_type": "code",
   "execution_count": 54,
   "id": "bb2bd75c",
   "metadata": {},
   "outputs": [],
   "source": [
    "my_student.update_attendance('2023-03-10', 'present')"
   ]
  },
  {
   "cell_type": "code",
   "execution_count": 55,
   "id": "4c5768b5",
   "metadata": {},
   "outputs": [
    {
     "data": {
      "text/plain": [
       "{'2023-03-08': 'present', '2023-03-09': 'absent', '2023-03-10': 'present'}"
      ]
     },
     "execution_count": 55,
     "metadata": {},
     "output_type": "execute_result"
    }
   ],
   "source": [
    "my_student.get_attendance()"
   ]
  },
  {
   "cell_type": "code",
   "execution_count": 56,
   "id": "65bced86",
   "metadata": {},
   "outputs": [
    {
     "data": {
      "text/plain": [
       "66.66666666666666"
      ]
     },
     "execution_count": 56,
     "metadata": {},
     "output_type": "execute_result"
    }
   ],
   "source": [
    "my_student.get_average_attendance()"
   ]
  },
  {
   "cell_type": "markdown",
   "id": "c7c2c13d",
   "metadata": {},
   "source": [
    "<b>------------------------------------------------------------------------------------------------------------------------------------------------------------------------------------------------------------------"
   ]
  }
 ],
 "metadata": {
  "kernelspec": {
   "display_name": "Python 3 (ipykernel)",
   "language": "python",
   "name": "python3"
  },
  "language_info": {
   "codemirror_mode": {
    "name": "ipython",
    "version": 3
   },
   "file_extension": ".py",
   "mimetype": "text/x-python",
   "name": "python",
   "nbconvert_exporter": "python",
   "pygments_lexer": "ipython3",
   "version": "3.9.7"
  }
 },
 "nbformat": 4,
 "nbformat_minor": 5
}
