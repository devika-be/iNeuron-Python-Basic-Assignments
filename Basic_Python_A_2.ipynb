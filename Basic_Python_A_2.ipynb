{
 "cells": [
  {
   "cell_type": "markdown",
   "id": "bbfba4c4",
   "metadata": {},
   "source": [
    "### Devika Prashant Pagare\n",
    "#### Python Basic : Assignment No. : 2"
   ]
  },
  {
   "cell_type": "markdown",
   "id": "korean-charge",
   "metadata": {},
   "source": [
    "<b> Number 1 -\n",
    "- Question -\n",
    "> What are the two values of the Boolean data type? How do you write them?\n",
    "\n",
    "- Answer - \n",
    "> True and False, using capital T and F, with the rest of the word in lowercase\n",
    "    \n",
    "<b>------------------------------------------------------------------------------------------------------------------------------------------------------------------------------------------------------------------"
   ]
  },
  {
   "cell_type": "markdown",
   "id": "outer-insurance",
   "metadata": {},
   "source": [
    "<b> Number 2 -\n",
    "- Question - \n",
    "> What are the three different types of Boolean operators?\n",
    "\n",
    "- Answer - \n",
    "> and, or, and not\n",
    "\n",
    "<b>------------------------------------------------------------------------------------------------------------------------------------------------------------------------------------------------------------------ "
   ]
  },
  {
   "cell_type": "markdown",
   "id": "academic-nelson",
   "metadata": {},
   "source": [
    "<b> Number 3 - \n",
    "- Question - \n",
    "> Write out the truth tables of each Boolean operator (that is, every possible combination of Boolean values for the operator and what they evaluate to).\n",
    "    \n",
    "- Answer - \n",
    "> - True and True is True.\n",
    "> - True and False is False.\n",
    "> - False and True is False.\n",
    "> - False and False is False.\n",
    "> - True or True is True.\n",
    "> - True or False is True.\n",
    "> - False or True is True.\n",
    "> - False or False is False.\n",
    "> - not True is False.\n",
    "> - not False is True.\n",
    "\n",
    "<b>------------------------------------------------------------------------------------------------------------------------------------------------------------------------------------------------------------------"
   ]
  },
  {
   "cell_type": "markdown",
   "id": "prompt-classroom",
   "metadata": {},
   "source": [
    "<b> Number 4 - \n",
    "- Question - \n",
    "> What do the following expressions evaluate to?\n",
    "> - (5 > 4) and (3 == 5)\n",
    "> - not (5 > 4)\n",
    "> - (5 > 4) or (3 == 5)\n",
    "> - not ((5 > 4) or (3 == 5))\n",
    "> - (True and True) and (True == False)\n",
    "> - (not False) or (not True)\n",
    "\n",
    "- Answer - \n",
    "> - False\n",
    "> - False\n",
    "> - True\n",
    "> - False\n",
    "> - False\n",
    "> - True\n",
    "\n",
    "<b>------------------------------------------------------------------------------------------------------------------------------------------------------------------------------------------------------------------"
   ]
  },
  {
   "cell_type": "markdown",
   "id": "tender-rainbow",
   "metadata": {},
   "source": [
    "<b> Number 5 - \n",
    "- Question - \n",
    "> What are the six comparison operators?\n",
    "    \n",
    "- Answer - \n",
    "> The six different types of reference operators are : ==, !=, <, >, <=, and >=.\n",
    "\n",
    "<b>------------------------------------------------------------------------------------------------------------------------------------------------------------------------------------------------------------------"
   ]
  },
  {
   "cell_type": "markdown",
   "id": "copyrighted-hypothetical",
   "metadata": {},
   "source": [
    "<b> Number 6 - \n",
    "- Question - \n",
    "> What is the difference between the equal to operator and the assignment operator?\n",
    "    \n",
    "- Answer - \n",
    "> == is the equal to operator that compares two values and evaluates to a Boolean, while = is the assignment operator that stores a value in a variable\n",
    "\n",
    "<b>------------------------------------------------------------------------------------------------------------------------------------------------------------------------------------------------------------------"
   ]
  },
  {
   "cell_type": "markdown",
   "id": "registered-independence",
   "metadata": {},
   "source": [
    "<b> Number 7 - \n",
    "- Question - \n",
    "> Identify the three blocks in this code:"
   ]
  },
  {
   "cell_type": "code",
   "execution_count": 1,
   "id": "5d149e57",
   "metadata": {},
   "outputs": [
    {
     "name": "stdout",
     "output_type": "stream",
     "text": [
      "spam\n"
     ]
    }
   ],
   "source": [
    "spam = 0\n",
    "if spam == 10:\n",
    "    print('eggs')\n",
    "    if spam > 5:\n",
    "        print('bacon')\n",
    "    else:\n",
    "        print('ham')\n",
    "    print('spam')\n",
    "print('spam')"
   ]
  },
  {
   "cell_type": "markdown",
   "id": "corresponding-length",
   "metadata": {},
   "source": [
    "<b>\n",
    "- Answer - \n",
    ">The three blocks are everything inside the if statement\n",
    "\n",
    "<b>------------------------------------------------------------------------------------------------------------------------------------------------------------------------------------------------------------------"
   ]
  },
  {
   "cell_type": "markdown",
   "id": "unlikely-converter",
   "metadata": {},
   "source": [
    "<b> Number 8 - \n",
    "- Question - \n",
    "> Explain what a condition is and where you would use one.\n",
    "- Answer - \n",
    "> A condition is an expression used in a flow control statement that evaluates to a Boolean value.\n",
    "\n",
    "<b>------------------------------------------------------------------------------------------------------------------------------------------------------------------------------------------------------------------"
   ]
  },
  {
   "cell_type": "markdown",
   "id": "sustained-teacher",
   "metadata": {},
   "source": [
    "<b> Number 9 - \n",
    "- Question - \n",
    "> Write code that prints Hello if 1 is stored in spam, prints Howdy if 2 is stored in spam, and prints Greetings! if anything else is stored in spam.\n",
    "\n",
    "- Answer - \n",
    ">\n"
   ]
  },
  {
   "cell_type": "code",
   "execution_count": 2,
   "id": "be587194",
   "metadata": {},
   "outputs": [
    {
     "name": "stdout",
     "output_type": "stream",
     "text": [
      "Enter a number : 3\n",
      "Greetings!\n"
     ]
    }
   ],
   "source": [
    "spam = int(input(\"Enter a number : \"))\n",
    "if spam == 1:\n",
    "    print('Hello')\n",
    "elif spam == 2:\n",
    "    print('Howdy')\n",
    "else:\n",
    "    print('Greetings!')"
   ]
  },
  {
   "cell_type": "markdown",
   "id": "f83979cb",
   "metadata": {},
   "source": [
    "<b>------------------------------------------------------------------------------------------------------------------------------------------------------------------------------------------------------------------"
   ]
  },
  {
   "cell_type": "markdown",
   "id": "422b8bdc",
   "metadata": {},
   "source": [
    "<b> Number 10 - \n",
    "- Question - \n",
    "> What keys can you press if your program is stuck in an infinite loop?\n",
    "    \n",
    "- Answer - \n",
    "> We need to press CTRL-C to stop a program if it has been stuck in an infinite loop.\n",
    "\n",
    "<b>------------------------------------------------------------------------------------------------------------------------------------------------------------------------------------------------------------------"
   ]
  },
  {
   "cell_type": "markdown",
   "id": "c4e685de",
   "metadata": {},
   "source": [
    "<b> Number 11 - \n",
    "- Question - \n",
    ">  What is the difference between break and continue?\n",
    "    \n",
    "- Answer - \n",
    "> The break statement will move the execution outside and just after a loop. The continue statement will move the execution to the start of the loop.\n",
    "\n",
    "<b>------------------------------------------------------------------------------------------------------------------------------------------------------------------------------------------------------------------"
   ]
  },
  {
   "cell_type": "markdown",
   "id": "d33a1ce3",
   "metadata": {},
   "source": [
    "<b> Number 12 - \n",
    "- Question - \n",
    "> What is the difference between range(10), range(0, 10), and range(0, 10, 1) in a for loop?\n",
    "    \n",
    "- Answer - \n",
    "> They all do the same thing. The range(10) call ranges from 0 up to (but not including) 10, range(0, 10) explicitly tells the loop to start at 0, and range(0, 10, 1) explicitly tells the loop to increase the variable by 1 on each iteration.\n",
    "\n",
    "<b>------------------------------------------------------------------------------------------------------------------------------------------------------------------------------------------------------------------"
   ]
  },
  {
   "cell_type": "markdown",
   "id": "2c23b1c6",
   "metadata": {},
   "source": [
    "<b> Number 13 - \n",
    "- Question - \n",
    ">  Write a short program that prints the numbers 1 to 10 using a for loop. Then write an equivalent program that prints the numbers 1 to 10 using a while loop.\n",
    "    \n",
    "- Answer - \n",
    ">\n"
   ]
  },
  {
   "cell_type": "code",
   "execution_count": 3,
   "id": "b3da51f6",
   "metadata": {},
   "outputs": [
    {
     "name": "stdout",
     "output_type": "stream",
     "text": [
      "1\n",
      "2\n",
      "3\n",
      "4\n",
      "5\n",
      "6\n",
      "7\n",
      "8\n",
      "9\n",
      "10\n"
     ]
    }
   ],
   "source": [
    "for i in range(1, 11):\n",
    "    print(i)"
   ]
  },
  {
   "cell_type": "code",
   "execution_count": 4,
   "id": "084cbff9",
   "metadata": {},
   "outputs": [
    {
     "name": "stdout",
     "output_type": "stream",
     "text": [
      "1\n",
      "2\n",
      "3\n",
      "4\n",
      "5\n",
      "6\n",
      "7\n",
      "8\n",
      "9\n",
      "10\n"
     ]
    }
   ],
   "source": [
    "i = 1\n",
    "while i <= 10:\n",
    "    print(i)\n",
    "    i = i + 1"
   ]
  },
  {
   "cell_type": "markdown",
   "id": "217f6753",
   "metadata": {},
   "source": [
    "<b>------------------------------------------------------------------------------------------------------------------------------------------------------------------------------------------------------------------"
   ]
  },
  {
   "cell_type": "markdown",
   "id": "ad06aba4",
   "metadata": {},
   "source": [
    "<b> Number 14 - \n",
    "- Question - \n",
    "> If you had a bacon() function within a spam module, what would you call it after importing spam?\n",
    "    \n",
    "- Answer - \n",
    "> This function can be called with spam.bacon().\n",
    "\n",
    "<b>------------------------------------------------------------------------------------------------------------------------------------------------------------------------------------------------------------------"
   ]
  },
  {
   "cell_type": "code",
   "execution_count": null,
   "id": "b8a27dfb",
   "metadata": {},
   "outputs": [],
   "source": []
  }
 ],
 "metadata": {
  "kernelspec": {
   "display_name": "Python 3 (ipykernel)",
   "language": "python",
   "name": "python3"
  },
  "language_info": {
   "codemirror_mode": {
    "name": "ipython",
    "version": 3
   },
   "file_extension": ".py",
   "mimetype": "text/x-python",
   "name": "python",
   "nbconvert_exporter": "python",
   "pygments_lexer": "ipython3",
   "version": "3.9.7"
  },
  "toc": {
   "base_numbering": 1,
   "nav_menu": {},
   "number_sections": true,
   "sideBar": true,
   "skip_h1_title": false,
   "title_cell": "Table of Contents",
   "title_sidebar": "Contents",
   "toc_cell": false,
   "toc_position": {},
   "toc_section_display": true,
   "toc_window_display": false
  }
 },
 "nbformat": 4,
 "nbformat_minor": 5
}
